{
 "cells": [
  {
   "cell_type": "markdown",
   "id": "2e098f2c-0f4f-42f0-b074-284c1fcbafb1",
   "metadata": {},
   "source": [
    "This tutorial is all about maps, see these resources for more of an introduction to data visualizations and making maps:\n",
    "\n",
    "- [Fundamentals of Data Visualization](https://clauswilke.com/dataviz/)\n",
    "- [Getting started with Cartopy](https://scitools.org.uk/cartopy/docs/latest/getting_started/index.html)\n",
    "- [Matplotlib tutorial](https://matplotlib.org/stable/tutorials/index)"
   ]
  },
  {
   "cell_type": "markdown",
   "id": "7af05822-6d9f-462d-bd51-d6cb5dcf5a14",
   "metadata": {},
   "source": [
    "If you start seeing a lot of warnings when running the code in this notebook, you may run the cell below to silence them."
   ]
  },
  {
   "cell_type": "code",
   "execution_count": null,
   "id": "70a00698-45d5-4159-be0a-d0ebc2b2016c",
   "metadata": {},
   "outputs": [],
   "source": [
    "import warnings\n",
    "warnings.filterwarnings('ignore')"
   ]
  },
  {
   "cell_type": "markdown",
   "id": "2806deba-666a-4484-8e4c-7008136e375a",
   "metadata": {},
   "source": [
    "# Making Maps"
   ]
  },
  {
   "cell_type": "markdown",
   "id": "4e945d6b-fdb7-4386-8fd3-659e663c0fcf",
   "metadata": {},
   "source": [
    "In the last notebook, we created a large dataset of temperatures in national parks that we need to search. \n",
    "\n",
    "This notebook takes a journey through some plotting just to give you some examples of several kinds of geographic plots you can use. It's mostly for educational purposes, but we can also use it to help find Boreas!"
   ]
  },
  {
   "cell_type": "markdown",
   "id": "bd307dc0-b8f1-4590-aa2c-0f4c9411741e",
   "metadata": {},
   "source": [
    "Two commonly used pacakges for plotting in python are [matplotlib](https://matplotlib.org/) (for any kind of data) and [cartopy](https://scitools.org.uk/cartopy/docs/latest/index.html) (an extension to matplotlib that allows for nice geographic plots)."
   ]
  },
  {
   "cell_type": "code",
   "execution_count": null,
   "id": "1e39ac70-202d-41e6-816b-d4cf5e268b54",
   "metadata": {},
   "outputs": [],
   "source": [
    "import xarray as xr\n",
    "import matplotlib.pyplot as plt\n",
    "import cartopy.crs as ccrs\n",
    "import cartopy.feature as cfeature\n",
    "import pandas as pd\n",
    "import numpy as np"
   ]
  },
  {
   "cell_type": "markdown",
   "id": "286d4423-a0a5-4283-a1d4-1efd439d77b5",
   "metadata": {},
   "source": [
    "To start, let's make a plot of the earth and explore some common terms you may need to plot geographic data. The cell below will plot the entire earth using a map [projection](https://scitools.org.uk/cartopy/docs/latest/reference/projections.html) known as the Plate Carree projection."
   ]
  },
  {
   "cell_type": "code",
   "execution_count": null,
   "id": "f5bf88b4-473d-4054-a448-1c3b116ea977",
   "metadata": {},
   "outputs": [],
   "source": [
    "fig, ax = plt.subplots(subplot_kw=dict(projection=ccrs.PlateCarree()))\n",
    "\n",
    "ax.gridlines(draw_labels=True, alpha=0.2, color='black')\n",
    "ax.stock_img()"
   ]
  },
  {
   "cell_type": "markdown",
   "id": "074895a5-6bf0-49ad-aca4-05f4000c2212",
   "metadata": {},
   "source": [
    "## Datums"
   ]
  },
  {
   "cell_type": "markdown",
   "id": "96ffc617-c3b9-4ce2-a36f-f457a289bf4f",
   "metadata": {},
   "source": [
    "This section is just for extra information; you don't need it for the rest of the tutorial. Please feel free to skip it if you don't care about the intricacies of plotting geographic data.\n",
    "\n",
    "Suppose your points show up in weird spots on the map. In that case, two usual suspects are at play: either your map's projection isn't right for your data, or your data's datum doesn't match the projection's datum.\n",
    "\n",
    "What's a [datum](https://en.wikipedia.org/wiki/Geodetic_datum)? It's basically the \"reference frame\" that defines how the coordinates relate to the real world. Different datums can make the exact latitude and longitude point to slightly different physical places on Earth. So, if your data and map aren't speaking the same \"datum language,\" your points might be in the wrong spot.\n",
    "\n",
    "By default, Matplotlib and Cartopy assume your data coordinates use the [WGS84](https://en.wikipedia.org/wiki/World_Geodetic_System) datum (the standard GPS reference) when plotting geographic data. However, suppose your data is based on a different datum, like [NAD27](https://en.wikipedia.org/wiki/North_American_Datum). Simply plotting it without converting it can cause your points to appear shifted or misplaced.\n",
    "\n",
    "The example below shows how to explicitly transform coordinates from WGS84 (below this is selected using an [epsg](https://en.wikipedia.org/wiki/EPSG_Geodetic_Parameter_Dataset) code [4326](https://epsg.io/4326)) to NAD27 (epsg code [4267](https://epsg.io/4267)) using Python's [pyproj library](https://pyproj4.github.io/pyproj/stable/). It then plots both sets of points on the same map using Cartopy's default PlateCarree projection (which assumes WGS84) so you can see the difference in location caused by the datum shift. Even though the latitude and longitude values may look similar, the actual points correspond to slightly different places on Earth.\n",
    "\n",
    "Don't worry too much about it now; know these two things can cause headaches when plotting locations. "
   ]
  },
  {
   "cell_type": "code",
   "execution_count": null,
   "id": "74885655-cd5e-4833-a0ec-c89f3cb7d449",
   "metadata": {},
   "outputs": [],
   "source": [
    "from pyproj import Transformer\n",
    "\n",
    "# NYC\n",
    "lon_wgs84, lat_wgs84 = -74.0060, 40.7128\n",
    "\n",
    "# Transform WGS84 to NAD83\n",
    "transformer = Transformer.from_crs(\"EPSG:4326\", \"EPSG:4267\", always_xy=True)\n",
    "lon_nad83, lat_nad83 = transformer.transform(lon_wgs84, lat_wgs84)\n",
    "\n",
    "print(f\"Difference in degrees: Δlon = {lon_nad83 - lon_wgs84:.8f}, Δlat = {lat_nad83 - lat_wgs84:.8f}\")\n",
    "\n",
    "proj = ccrs.PlateCarree()\n",
    "fig, ax = plt.subplots(dpi=300, subplot_kw=dict(projection=proj))\n",
    "\n",
    "ax.set_title(\"WGS84 vs NAD27 Datum Comparison (New York City)\")\n",
    "ax.stock_img()\n",
    "ax.coastlines()\n",
    "ax.gridlines(draw_labels=True, alpha=0.3)\n",
    "\n",
    "# Plot original WGS84 point\n",
    "ax.plot(lon_wgs84, lat_wgs84, 'ro', markersize=8, label=\"WGS84\", transform=proj)\n",
    "ax.text(lon_wgs84 + 0.0001, lat_wgs84 + 0.0005, \"WGS84\", color='red', transform=proj)\n",
    "\n",
    "# Plot transformed NAD83 point\n",
    "ax.plot(lon_nad83, lat_nad83, 'bo', markersize=8, label=\"NAD83\", transform=proj)\n",
    "ax.text(lon_nad83 + 0.0001, lat_nad83 - 0.0005, \"NAD27\", color='blue', transform=proj)\n",
    "\n",
    "# Zoom in to see difference\n",
    "ax.set_extent([-74.008, -73.998, 40.71, 40.715], crs=proj)\n",
    "\n",
    "plt.legend()\n",
    "plt.tight_layout()\n",
    "plt.show()"
   ]
  },
  {
   "cell_type": "markdown",
   "id": "abd2ebe3-0e9c-4777-9abe-7c1b03fe7f3b",
   "metadata": {},
   "source": [
    "## Projections, Web Map Tile Services, Styling"
   ]
  },
  {
   "cell_type": "markdown",
   "id": "6337bf5a-7b7d-4e0b-a5ac-4ab93a77687f",
   "metadata": {},
   "source": [
    "There are many types of projections. All projectons represent the earth in different coordinate systems and can create maps to emphasize different features. The [Plate Caree](https://scitools.org.uk/cartopy/docs/latest/reference/projections.html#platecarree) projection is nice because it represents a 2d grid as if all of the latitude and longitudes are equidistant, meaning that one degree in the latitudue or longitude direciton is equal at all points of the earth (which is not true).\n",
    "\n",
    "A more common projection you may have heard of is the [Robinson](https://scitools.org.uk/cartopy/docs/latest/reference/projections.html#robinson) projection. To change a map's projection, simply use a different one in the `subplot_kw` dictionary when making a figure."
   ]
  },
  {
   "cell_type": "code",
   "execution_count": null,
   "id": "020787c7-025c-4935-a60b-e9bd7d3a7405",
   "metadata": {},
   "outputs": [],
   "source": [
    "fig, ax = plt.subplots(subplot_kw=dict(projection=ccrs.Robinson()))\n",
    "\n",
    "ax.gridlines(draw_labels=True, alpha=0.2, color='black')\n",
    "ax.stock_img()"
   ]
  },
  {
   "cell_type": "markdown",
   "id": "b2226d89-6830-4a47-a925-0f1231570256",
   "metadata": {},
   "source": [
    "Projections can also be centered around a specific area. For example, we will create a map of the United States using a projection that is often used because it gives the contiguous US a shield shape. To do so, we use the [Albers Equal Area](https://scitools.org.uk/cartopy/docs/latest/reference/projections.html#albersequalarea) projection, using the center of the United States as its focal point. But this time we will also restrict the bounds to a box which bounds the contiguous US. We will also use some higher resolution basemap features since the default `stock_img` would be too pixelated at this smaller scale. These come installed with cartopy in the [feature](https://scitools.org.uk/cartopy/docs/latest/reference/feature.html) subpackage.\n",
    "\n",
    "You will also notice that when we set the extent (bounding box) of the map that we add a `PlateCaree()` argument. This is not required here because `PlateCaree` and `AlbersEqualArea` both operate on latitude and longitude values, but some prejections operate on a different set of underlying data values. The second argument to `set_extent` specifies the coordiante reference system of the input arguments and allows cartopy to accurately transform the input data points into the coordinate reference system that the map is plotted on. In general it is good practice to specify the coordinate reference system each time you can so that the base map projection can be changed without updating operations on the map."
   ]
  },
  {
   "cell_type": "code",
   "execution_count": null,
   "id": "a4a7afa2-f62f-4faf-92fb-ffbb9a737252",
   "metadata": {},
   "outputs": [],
   "source": [
    "fig, ax = plt.subplots(subplot_kw=dict(projection=ccrs.AlbersEqualArea(central_latitude=39.8283, central_longitude=-98.5795)))\n",
    "\n",
    "minlat = 25\n",
    "maxlat = 49\n",
    "minlon = -120\n",
    "maxlon = -73\n",
    "\n",
    "ax.set_extent([minlon, maxlon, minlat, maxlat], ccrs.PlateCarree())\n",
    "\n",
    "ax.gridlines(draw_labels=True, alpha=0.2, color='black')\n",
    "\n",
    "ax.add_feature(cfeature.LAND.with_scale('10m'))\n",
    "ax.add_feature(cfeature.OCEAN.with_scale('10m'))\n",
    "ax.add_feature(cfeature.COASTLINE.with_scale('10m'))\n",
    "ax.add_feature(cfeature.BORDERS.with_scale('10m'))\n",
    "ax.add_feature(cfeature.LAKES.with_scale('10m'))\n",
    "ax.add_feature(cfeature.RIVERS.with_scale('10m'))"
   ]
  },
  {
   "cell_type": "markdown",
   "id": "64650525-f5a6-4a30-9ecb-c824966b42cf",
   "metadata": {},
   "source": [
    "That map is a little boring and frankly the colors aren't very fun. We can customize this a bit more to make it more appealing."
   ]
  },
  {
   "cell_type": "code",
   "execution_count": null,
   "id": "5901b170-2298-42e4-8c4b-5581b96b27c1",
   "metadata": {},
   "outputs": [],
   "source": [
    "fig, ax = plt.subplots(figsize=(10, 6), subplot_kw=dict(\n",
    "    projection=ccrs.AlbersEqualArea(central_latitude=39.8283, central_longitude=-98.5795)))\n",
    "\n",
    "\n",
    "ax.gridlines(draw_labels=True, alpha=0.2, color='gray', linestyle='--')\n",
    "ax.set_extent([minlon, maxlon, minlat, maxlat], ccrs.PlateCarree())\n",
    "\n",
    "# Custom styling for the land and ocean features\n",
    "land = cfeature.NaturalEarthFeature('physical', 'land', '10m',\n",
    "                                    edgecolor='face',\n",
    "                                    facecolor='#f0e5d8')  # soft tan\n",
    "ocean = cfeature.NaturalEarthFeature('physical', 'ocean', '10m',\n",
    "                                     edgecolor='face',\n",
    "                                     facecolor='#d0e7f2')  # soft blue\n",
    "\n",
    "ax.add_feature(ocean, zorder=0)\n",
    "ax.add_feature(land, zorder=1)\n",
    "\n",
    "ax.add_feature(cfeature.COASTLINE.with_scale('10m'), linewidth=0.5)\n",
    "ax.add_feature(cfeature.BORDERS.with_scale('10m'), linestyle='--', linewidth=0.6)\n",
    "\n",
    "ax.add_feature(cfeature.STATES.with_scale('10m'), linewidth=0.4, edgecolor='gray')\n",
    "\n",
    "ax.add_feature(cfeature.LAKES.with_scale('10m'), facecolor='#a6cee3', edgecolor='k', linewidth=0.2)\n",
    "ax.add_feature(cfeature.RIVERS.with_scale('10m'), edgecolor='#1f78b4', linewidth=0.4)\n",
    "\n",
    "ax.set_title(\"United States Map (Styled)\", fontsize=14)\n",
    "plt.tight_layout()"
   ]
  },
  {
   "cell_type": "markdown",
   "id": "f7449921-e5db-4c61-8791-4f8a00b0bfbc",
   "metadata": {},
   "source": [
    "Well that's cool, but wouldn't it be nice if we could use some real images as the background?\n",
    "\n",
    "To do so, we can use a [Web Map Tiliing service](https://en.wikipedia.org/wiki/Web_Map_Tile_Service) provided by NASA. We referenced [this example](https://scitools.org.uk/cartopy/docs/latest/gallery/web_services/wmts_time.html#sphx-glr-gallery-web-services-wmts-time-py) to make the image below. \n",
    "\n",
    "Below we have chosen to plot September 10, 2020. In this image, we can clearly see the California wildfires that were raging in 2020 at one of the most intense points of the fire.\n",
    "\n",
    "The cell below may take some time to finish plotting."
   ]
  },
  {
   "cell_type": "code",
   "execution_count": null,
   "id": "67098976-a27f-4c83-925e-0b645e24bb8e",
   "metadata": {},
   "outputs": [],
   "source": [
    "from owslib.wmts import WebMapTileService\n",
    "\n",
    "plot_crs = ccrs.AlbersEqualArea(central_latitude=39.8283, central_longitude=-98.5795)\n",
    "fig, ax = plt.subplots(dpi=150, subplot_kw=dict(projection=plot_crs))\n",
    "\n",
    "url = 'https://gibs.earthdata.nasa.gov/wmts/epsg4326/best/wmts.cgi'\n",
    "wmts = WebMapTileService(url)\n",
    "\n",
    "# Layer for VIIRS (Suomi NPP) True Color\n",
    "layer = 'VIIRS_SNPP_CorrectedReflectance_TrueColor'\n",
    "\n",
    "date_str = '2020-09-10'\n",
    "\n",
    "ax.add_wmts(wmts, layer, wmts_kwargs={'time': date_str})\n",
    "\n",
    "ax.set_extent([minlon, maxlon, minlat, maxlat], ccrs.PlateCarree())\n",
    "ax.gridlines(draw_labels=True, alpha=0.2, color='black')"
   ]
  },
  {
   "cell_type": "markdown",
   "id": "406d51a5-8893-4ced-9c8e-9c5fbfb8e385",
   "metadata": {},
   "source": [
    "Lastly, if you wanted a map with roads and locations on it, you can always use Open Street Maps a a tiler."
   ]
  },
  {
   "cell_type": "code",
   "execution_count": null,
   "id": "8e82ab65-1931-4edb-b6cb-4487bfc1cdc4",
   "metadata": {},
   "outputs": [],
   "source": [
    "import cartopy.io.img_tiles as cimgt\n",
    "\n",
    "tiler = cimgt.OSM() \n",
    "crs = tiler.crs \n",
    "\n",
    "fig, ax = plt.subplots(subplot_kw=dict(projection=crs))\n",
    "\n",
    "ax.add_image(tiler, 6)  # 12 is the zoom level; adjust for detail level\n",
    "\n",
    "ax.set_extent([minlon, maxlon, minlat, maxlat], ccrs.PlateCarree())\n",
    "ax.gridlines(draw_labels=True, alpha=0.2, color='black')\n",
    "\n",
    "ax.set_title(\"Open Street Maps Tiling\")"
   ]
  },
  {
   "cell_type": "markdown",
   "id": "e55be45f-560e-4c18-b7fc-0bcf206e50cc",
   "metadata": {},
   "source": [
    "## Plotting environmental data on a map"
   ]
  },
  {
   "cell_type": "markdown",
   "id": "ed5f73e7-3c60-403a-b47f-4490adf26e0d",
   "metadata": {},
   "source": [
    "In your time at NCAR, you may have the need to plot some geographic data on top of a map. Below is an example of plotting a heat map of temperatore over the US.\n",
    "\n",
    "We will elide over the finer points of using xarray right now, but a more complete tutorial can be found [here](https://tutorial.xarray.dev/overview/xarray-in-45-min.html).\n",
    "\n",
    "Below we load an example dataset from xarray that contains air temperature. It's a 3D dataset (lat, lon, time) with one variable, air temperature. Here, we select the first time step and plot its temperature on the map.\n",
    "\n",
    "Notice that when we plot the air temperature, we have to supply the `transform` argument. This allows cartopy to convert the lat/lon from the temperature dataset from a Plate Caree projection into the Albers Equal Area projection.\n",
    "\n",
    "We will also plot points on the map. This may help you find Boreas!"
   ]
  },
  {
   "cell_type": "code",
   "execution_count": null,
   "id": "ceec681e-f01c-4c58-9214-701db5792e89",
   "metadata": {},
   "outputs": [],
   "source": [
    "data = ds = xr.tutorial.load_dataset(\"air_temperature\")"
   ]
  },
  {
   "cell_type": "code",
   "execution_count": null,
   "id": "5cfe292e-273e-4ff1-b721-35913967bbe6",
   "metadata": {},
   "outputs": [],
   "source": [
    "data"
   ]
  },
  {
   "cell_type": "code",
   "execution_count": null,
   "id": "54fe42cc-f48b-4c1e-85b3-b6d6688aa0be",
   "metadata": {},
   "outputs": [],
   "source": [
    "fig, ax = plt.subplots(figsize=(10, 6), subplot_kw=dict(\n",
    "    projection=ccrs.AlbersEqualArea(central_latitude=39.8283, central_longitude=-98.5795)))\n",
    "\n",
    "ax.set_extent([minlon, maxlon, minlat, maxlat], ccrs.PlateCarree())\n",
    "ax.gridlines(draw_labels=True, alpha=0.2, color='gray', linestyle='--')\n",
    "\n",
    "\n",
    "ax.add_feature(cfeature.COASTLINE.with_scale('10m'), linewidth=0.5)\n",
    "ax.add_feature(cfeature.BORDERS.with_scale('10m'), linestyle='--', linewidth=0.6)\n",
    "ax.add_feature(cfeature.STATES.with_scale('10m'), linewidth=0.4, edgecolor='gray')\n",
    "\n",
    "ax.spines[:].set_visible(False)\n",
    "\n",
    "data.isel(time=0)['air'].plot(ax=ax, transform=ccrs.PlateCarree())\n",
    "\n",
    "lons = data.lon.values\n",
    "lats = [(maxlat + minlat) / 2] * len(lons)\n",
    "ax.scatter(lons, lats, transform=ccrs.PlateCarree(), marker='*', color='pink', s=400, edgecolor=None)\n",
    "\n",
    "plt.title(\"Air Temperature\", fontsize=14)\n",
    "plt.tight_layout()"
   ]
  },
  {
   "cell_type": "markdown",
   "id": "8e9c02a1-4fde-4af7-bf78-bbd6b0e66c25",
   "metadata": {},
   "source": [
    "# The Clue"
   ]
  },
  {
   "cell_type": "markdown",
   "id": "6968aaf4-a1ac-4043-a721-5db0dc01abb2",
   "metadata": {},
   "source": [
    "Ok, now that we've taken a huge detour from the main mystery with an overview of plotting, let's get back to our investigation!\n",
    "\n",
    "We will start with plotting the points to see what our data looks like. First, we need to load in the dataset. If you forgot how, "
   ]
  },
  {
   "cell_type": "code",
   "execution_count": null,
   "id": "a45003ff-5b6f-4853-84d8-b85ed73debee",
   "metadata": {},
   "outputs": [],
   "source": [
    "filename = \"national_park_temperatures.nc\"\n",
    "with xr.open_dataset(filename) as ds:\n",
    "    ds.load()"
   ]
  },
  {
   "cell_type": "markdown",
   "id": "be29f3ce-f12b-4f27-9d08-b8bee614b92b",
   "metadata": {},
   "source": [
    "To make plotting some things easier, we have also provided you with a csv file of the National Park locations. It's not strictly requried, but you may find a use for it."
   ]
  },
  {
   "cell_type": "code",
   "execution_count": null,
   "id": "e2c8d145-6c24-4d2a-86f6-c18229b642b3",
   "metadata": {},
   "outputs": [],
   "source": [
    "df = pd.read_csv('national_park_locations.csv')"
   ]
  },
  {
   "cell_type": "code",
   "execution_count": null,
   "id": "c07433c9-8c16-4c65-80b6-1fd735e72351",
   "metadata": {},
   "outputs": [],
   "source": [
    "df"
   ]
  },
  {
   "cell_type": "code",
   "execution_count": null,
   "id": "d9f84ba0-26ac-458c-9cae-0273aab51bea",
   "metadata": {},
   "outputs": [],
   "source": [
    "ds"
   ]
  },
  {
   "cell_type": "markdown",
   "id": "5d1fd027-6d57-461f-9888-18962319f789",
   "metadata": {},
   "source": [
    "Next you'll want to make a figure choosing some projections you like. To help you choose a bounds, you can get the minimum and maximum of the coordinates. We've provided that code for you. The rest is up to you! You need to create a scatter plot of the data"
   ]
  },
  {
   "cell_type": "code",
   "execution_count": null,
   "id": "b6222473-54f0-4249-93a5-06ab90de0b54",
   "metadata": {},
   "outputs": [],
   "source": [
    "fig, ax = plt.subplots(figsize=(10, 8), dpi=200, subplot_kw=dict(projection=ccrs.PlateCarree()))\n",
    "\n",
    "ax.gridlines(draw_labels=True, alpha=0.2, color='black')\n",
    "ax.stock_img()\n",
    "\n",
    "ax.scatter(df.Longitude.values, df.Latitude.values, color='red', s=10, edgecolor=None, transform=ccrs.PlateCarree())\n",
    "\n",
    "for index, row in df.iterrows():\n",
    "    ax.text(row.Longitude, row.Latitude, row.Name, color='blue', transform=ccrs.PlateCarree(), ha='center', va='bottom')\n",
    "\n",
    "plt.title(\"Locations: The Mystery of Boreas the Penguin\", fontsize=16)"
   ]
  },
  {
   "cell_type": "markdown",
   "id": "e719f65b-91f6-4a54-a7e0-b79c44e12d5f",
   "metadata": {},
   "source": [
    "Hmmm. All of the data is clustered in the middle of the US. And from the investigation of `ds` above, we think this is likely data in Boulder, Colorado. Let's zoom in on Boulder and plot again."
   ]
  },
  {
   "cell_type": "code",
   "execution_count": null,
   "id": "0dd07672-870c-4aae-81d1-1584317de325",
   "metadata": {},
   "outputs": [],
   "source": [
    "fig, ax = plt.subplots(figsize=(10, 8), dpi=200, subplot_kw=dict(projection=ccrs.PlateCarree()))\n",
    "\n",
    "ax.gridlines(draw_labels=True, alpha=0.2, color='black')\n",
    "ax.stock_img()\n",
    "\n",
    "minlat, maxlat = df.Latitude.min() - 1, df.Latitude.max() + 1\n",
    "minlon, maxlon = df.Longitude.min() - 1, df.Longitude.max() + 1\n",
    "\n",
    "ax.set_extent([minlon, maxlon, minlat, maxlat], ccrs.PlateCarree())\n",
    "\n",
    "ax.scatter(df.Longitude.values, df.Latitude.values, color='red', s=10, edgecolor=None, transform=ccrs.PlateCarree())\n",
    "\n",
    "for index, row in df.iterrows():\n",
    "    ax.text(row.Longitude, row.Latitude, row.Name, color='blue', transform=ccrs.PlateCarree(), ha='center', va='bottom', fontsize=6)\n",
    "\n",
    "plt.title(\"Locations: The Mystery of Boreas the Penguin\", fontsize=16)"
   ]
  },
  {
   "cell_type": "markdown",
   "id": "abf0cd96-ebc6-4aec-ad5c-c3368d601de1",
   "metadata": {},
   "source": [
    "Now we need to find the minimum temperature of all national parks"
   ]
  },
  {
   "cell_type": "code",
   "execution_count": null,
   "id": "163ed086-aaa7-4171-8fbd-dae9565f0124",
   "metadata": {},
   "outputs": [],
   "source": [
    "ds.temperature.min()"
   ]
  },
  {
   "cell_type": "markdown",
   "id": "45f4304d-38b0-4eac-a221-880a392d4f63",
   "metadata": {},
   "source": [
    "Alright, we know what the minimum temperature is, but we don't know when or where it occurs. What we need is an index into the latitude array, the longitude array, and the time array that points us to the minimum of air temperature in both space and time.\n",
    "\n",
    "Fortuntately for us, xarray can tell us where that is using the [argmin](https://docs.xarray.dev/en/stable/generated/xarray.DataArray.argmin.html) function of a dataarray. We can also pass all of our coordinates to the `dim` argument to say we want to know where and when the argument which provides the minimum is."
   ]
  },
  {
   "cell_type": "code",
   "execution_count": null,
   "id": "04f6a421-269b-400b-9676-e217aa7d7b85",
   "metadata": {},
   "outputs": [],
   "source": [
    "ds.temperature.argmin(dim=(\"lat\", \"lon\", \"time\"))"
   ]
  },
  {
   "cell_type": "markdown",
   "id": "356ad7c3-c6f4-47d3-948e-f4a7357f5be3",
   "metadata": {},
   "source": [
    "This returns a dictionary with three items, the indices for each minimum."
   ]
  },
  {
   "cell_type": "markdown",
   "id": "adfc1276-e44f-4de5-b4bf-f5c49a763ff6",
   "metadata": {},
   "source": [
    "The location of the park with the minimum temperature is at index 3 of the latitude array, index 3 of the longitude array, and index 1634 of the time array. We can use that information to look up the temperature (which we know from above should be 236.29999), and the location and time use the [isel](https://docs.xarray.dev/en/stable/generated/xarray.DataArray.isel.html) function. This function lets us select a value by index.\n",
    "\n",
    "For the time below, we need to format it as a date string. The time is represetned as a [numpy datetime64[ns]](https://numpy.org/doc/stable/reference/arrays.scalars.html#numpy.datetime64), which represnts the number of nanoseconds since the Unix epoch which is 1970-01-01T00:00:00 UTC. To format a number of seconds, you can use the python [strftime](https://docs.python.org/3.6/library/datetime.html#datetime.date.strftime) function to convert this to a date string."
   ]
  },
  {
   "cell_type": "code",
   "execution_count": null,
   "id": "6d55ef25-8d85-41d0-bfbb-025a103c439f",
   "metadata": {},
   "outputs": [],
   "source": [
    "idxs = ds.temperature.argmin(dim=(\"lat\", \"lon\", \"time\"))\n",
    "\n",
    "lat_i = idxs['lat'].item()\n",
    "lon_i = idxs['lon'].item()\n",
    "time_i = idxs['time'].item()\n",
    "\n",
    "temp = ds.temperature.isel(lat=lat_i, lon=lon_i, time=time_i).item()\n",
    "coldest_lat = ds.lat[lat_i].item()\n",
    "coldest_lon = ds.lon[lon_i].item()\n",
    "time = pd.to_datetime(ds.time[time_i].item()).strftime(\"%Y-%m-%d %H:%M:%S\")\n",
    "coldest_park = ds.park_name.isel(lat=lat_i, lon=lon_i).item()\n",
    "\n",
    "# Output\n",
    "print(f\"Minimum temperature: {temp} °K\")\n",
    "print(f\"Time: {time}\")\n",
    "print(f\"Location: lat={coldest_lat}, lon={coldest_lon}\")\n",
    "print(f\"Park name: {coldest_park}\")"
   ]
  },
  {
   "cell_type": "markdown",
   "id": "11e11fac-9de0-4509-9551-bece57c73f10",
   "metadata": {},
   "source": [
    "We've found Boreas! Let's plot a path that Boreas may have taken to get from the NCAR Mesa Lab to the coldest national park. "
   ]
  },
  {
   "cell_type": "code",
   "execution_count": null,
   "id": "ba0a5279-b5d9-417d-b522-1fa2ed3ebdb1",
   "metadata": {},
   "outputs": [],
   "source": [
    "import matplotlib.image as mpimg\n",
    "import matplotlib.patheffects as PathEffects\n",
    "\n",
    "mesa_lat, mesa_lon = 39.97806942121865, 254.72514408382477\n",
    "\n",
    "central_lon = (mesa_lon + coldest_lon) / 2\n",
    "central_lat = (mesa_lat + coldest_lat) / 2\n",
    "proj=ccrs.NearsidePerspective(central_longitude=central_lon, central_latitude=central_lat)\n",
    "\n",
    "# increase the number of points on a line segment between one degree to make the drawn line segment smoother\n",
    "proj.threshold = proj.threshold/100\n",
    "\n",
    "fig, ax = plt.subplots(dpi=200, subplot_kw=dict(projection=proj))\n",
    "\n",
    "ax.gridlines(draw_labels=True, alpha=0.2, color='black')\n",
    "\n",
    "land = cfeature.NaturalEarthFeature('physical', 'land', '10m',\n",
    "                                    edgecolor='face',\n",
    "                                    facecolor='#f0e5d8')  # soft tan\n",
    "ocean = cfeature.NaturalEarthFeature('physical', 'ocean', '10m',\n",
    "                                     edgecolor='face',\n",
    "                                     facecolor='#d0e7f2')  # soft blue\n",
    "\n",
    "img = mpimg.imread('blue_marble.jpg')\n",
    "\n",
    "ax.imshow(img, origin='upper',\n",
    "          transform=ccrs.PlateCarree(),\n",
    "          extent=[-180, 180, -90, 90],\n",
    "          zorder=0)\n",
    "\n",
    "ax.scatter([coldest_lon, mesa_lon], [coldest_lat, mesa_lat], color='red', transform=ccrs.PlateCarree())\n",
    "ax.plot([coldest_lon, mesa_lon], [coldest_lat, mesa_lat], color='red', transform=ccrs.PlateCarree())\n",
    "\n",
    "ax.text(\n",
    "    mesa_lon, mesa_lat, 'Mesa Lab',\n",
    "    color='white',\n",
    "    transform=ccrs.PlateCarree(),\n",
    "    ha='center', va='bottom', fontsize=12,\n",
    "    path_effects=[\n",
    "        PathEffects.withStroke(linewidth=1, foreground='black')\n",
    "    ]\n",
    ")\n",
    "\n",
    "ax.text(\n",
    "    coldest_lon, coldest_lat, coldest_park.replace('-', ' '),\n",
    "    color='white',\n",
    "    transform=ccrs.PlateCarree(),\n",
    "    ha='center', va='bottom', fontsize=12,\n",
    "    path_effects=[\n",
    "        PathEffects.withStroke(linewidth=1, foreground='black')\n",
    "    ]\n",
    ")\n",
    "\n",
    "ax.set_title(\"We found Boreas!\", fontsize=16)"
   ]
  },
  {
   "cell_type": "code",
   "execution_count": null,
   "id": "a964f2ff-1289-4447-8684-6024d4a10367",
   "metadata": {},
   "outputs": [],
   "source": []
  }
 ],
 "metadata": {
  "kernelspec": {
   "display_name": "Python 3 (ipykernel)",
   "language": "python",
   "name": "python3"
  },
  "language_info": {
   "codemirror_mode": {
    "name": "ipython",
    "version": 3
   },
   "file_extension": ".py",
   "mimetype": "text/x-python",
   "name": "python",
   "nbconvert_exporter": "python",
   "pygments_lexer": "ipython3",
   "version": "3.9.15"
  }
 },
 "nbformat": 4,
 "nbformat_minor": 5
}
