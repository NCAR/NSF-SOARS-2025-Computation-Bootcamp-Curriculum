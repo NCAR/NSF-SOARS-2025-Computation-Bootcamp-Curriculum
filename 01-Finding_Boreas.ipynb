{
 "cells": [
  {
   "cell_type": "markdown",
   "metadata": {},
   "source": [
    "Hi! These three notebooks are meant to be a short introduction to python, and a small team building activity. It will not cover the entire breadth of python programming, but should hopefully get you started on your programming jouney. Should you be looking for a more complete tutorial, please check out any of these tutorials.\n",
    "\n",
    "- [The official python tutorial](https://docs.python.org/3/tutorial/index.html)\n",
    "- [Programming with Python](https://swcarpentry.github.io/python-novice-inflammation/)\n",
    "- [Plotting and Programming in Python](https://swcarpentry.github.io/python-novice-gapminder/index.html)"
   ]
  },
  {
   "cell_type": "markdown",
   "metadata": {
    "id": "lgmZupNxzC9W"
   },
   "source": [
    "# The Mystery of Boreas the Penguin\n",
    "\n",
    "Greetings, NSF SOARS adventurers! As you embark on your scientific journey with us this summer, we have an urgent mystery that only the sharpest minds can solve.\n",
    "\n",
    "Boreas the Penguin, our fearless guide through the world of atmospheric science, has vanished! His last known whereabouts remain a mystery, and we need your expertise to track him down. But fear not—history, science, and the forces of nature have left behind a clue.\n",
    "\n",
    "Additionally, UCAR president Tony Busalacchi reported that Boreas was considering a vacation, and was likely looking for a very cold place to be. Maybe this will be helpful?\n",
    "\n",
    "<center>\n",
    "    <img src=\"img/boreas.png\" alt=\"Boreas the Penguin\" width=\"200\"/>    \n",
    "</center>\n",
    "\n",
    "A powerful [derecho](https://en.wikipedia.org/wiki/Derecho) recently tore through Colorado, its winds howling across the Flatirons just as they have for millennia. In its wake, something peculiar was left at the doorstep of the NSF NCAR Mesa Lab—a place that has stood as a beacon of atmospheric discovery since its founding in 1960 by the NSF National Center for Atmospheric Research (NCAR). There, amidst the swirling dust, our team found a lanyard with a USB thumb drive, its presence as puzzling as a sudden mountain wave cloud over the Front Range.\n",
    "\n",
    "Could this be the key to finding Boreas? The very same winds that helped NSF NCAR's earliest scientists unlock the mysteries of turbulence, climate modeling, and severe storms may have also carried a critical clue to Boreas' location.\n",
    "\n",
    "Our diligent NSF [NCAR Research Information Technology (NRIT)](https://sundog.ucar.edu/page/9124?SearchId=1345861) team has ensured the drive is safe to examine, but the contents remain a mystery. What secrets does it hold? Is it a message? A puzzle? A map guiding us to Boreas?\n",
    "\n",
    "Your mission, should you choose to accept it, is to analyze the data to find Boreas and follow the scientific trail—just as NSF NCAR's researchers have done for decades to advance our understanding of the atmosphere. From the pioneering work in numerical weather prediction to today's cutting-edge research in climate science, air quality, and extreme weather, you now stand in the footsteps of discovery.\n",
    "\n",
    "Are you ready to take on the challenge? Boreas is counting on you!\n",
    "Let the adventure begin!"
   ]
  },
  {
   "cell_type": "markdown",
   "metadata": {
    "id": "16HselJOaVli"
   },
   "source": [
    "## Python Notebooks"
   ]
  },
  {
   "cell_type": "markdown",
   "metadata": {
    "id": "ggLuxyyeaYmK"
   },
   "source": [
    "You are currently viewing a [Jupyter Notebook](https://jupyter.org/). Notebooks are a mix of narrative text and computations. This adventure is meant to explain how to use notebooks, introduce you to python, and hopefully be a good bit of fun."
   ]
  },
  {
   "cell_type": "markdown",
   "metadata": {
    "id": "1u7dVhL2bKrY"
   },
   "source": [
    "To start, let's introduce some basic [python](https://www.python.org/) concepts!\n",
    "\n",
    "Python is a high level programming language whose popularity has exploded in recent years due to its versatility. Common uses are writing web servers, automation scripts, data science and analysis, and machine learning."
   ]
  },
  {
   "cell_type": "markdown",
   "metadata": {
    "id": "Fjm7ZvxQbluJ"
   },
   "source": [
    "The simplest program you can write in python is one line. Click on the cell below and run it by pressing the play button in the menu bar, or SHIFT+ENTER."
   ]
  },
  {
   "cell_type": "code",
   "execution_count": null,
   "metadata": {
    "colab": {
     "base_uri": "https://localhost:8080/"
    },
    "id": "jPN2iySSr8iH",
    "outputId": "3a5071c2-e3b9-42b2-c45e-c05caa45318a"
   },
   "outputs": [],
   "source": [
    "print(\"Good morning, starshine. The earth says hello!\")"
   ]
  },
  {
   "cell_type": "markdown",
   "metadata": {
    "id": "xQLMBlTer_hI"
   },
   "source": [
    "[`print`](https://docs.python.org/3/tutorial/inputoutput.html) statements are used quite often to update the status of a running program, but they are also a great tool to use when debugging!"
   ]
  },
  {
   "cell_type": "markdown",
   "metadata": {
    "id": "MYpYeQmWsOFQ"
   },
   "source": [
    "Programs operate on data. Naturally, we can store data we wish to process and give them a name. We call these variables. In python, you can declare variables using an `=` sign."
   ]
  },
  {
   "cell_type": "code",
   "execution_count": null,
   "metadata": {
    "id": "h_ZUvP6fsneM"
   },
   "outputs": [],
   "source": [
    "my_first_variable = \"None pizza\"\n",
    "my_second_variable = \", left beef\""
   ]
  },
  {
   "cell_type": "markdown",
   "metadata": {
    "id": "UkfsclIHs1zE"
   },
   "source": [
    "After running the above cell, your two variables will be defined and useable within the current [scope](https://docs.python.org/3/tutorial/classes.html#python-scopes-and-namespaces). The print statement can print any valid [datatype](https://docs.python.org/3/library/datatypes.html). Complete the cell below by printing out each variable on it's own line"
   ]
  },
  {
   "cell_type": "code",
   "execution_count": null,
   "metadata": {
    "colab": {
     "base_uri": "https://localhost:8080/"
    },
    "id": "UqAbBG8StngU",
    "outputId": "5172bd33-518a-41e0-b63b-5479587f2d9d"
   },
   "outputs": [],
   "source": [
    "print(\"Replace this string with a variable name\")\n",
    "print(\"Replace this string with a variable name\")"
   ]
  },
  {
   "cell_type": "markdown",
   "metadata": {
    "id": "D_tcnmxOuXpD"
   },
   "source": [
    "The two variables you defined above are both `str`ing types. In python, you can concatenate two strings together by adding their values. You do so using the `+` operator."
   ]
  },
  {
   "cell_type": "code",
   "execution_count": null,
   "metadata": {
    "colab": {
     "base_uri": "https://localhost:8080/"
    },
    "id": "_4TvOXNeus1J",
    "outputId": "43270189-a47a-4fae-a372-2ea20411a2e6"
   },
   "outputs": [],
   "source": [
    "print(my_first_variable + my_second_variable)"
   ]
  },
  {
   "cell_type": "markdown",
   "metadata": {
    "id": "aydfT4F0uwmw"
   },
   "source": [
    "Python has many data types. The most common data types you will use are listed below along with a few examples. There are many operations you can do for each of these. The examples are not exhaustive, so please look up each datatype to learn more about how you can use them.\n",
    "\n",
    "- [Integers](https://docs.python.org/3/library/functions.html#int)\n",
    "- [Floating point numbrers (real numbers)](https://docs.python.org/3/library/functions.html#float)\n",
    "- [Booleans (logical `true`/`false`)](https://docs.python.org/3/library/functions.html#bool)\n",
    "- [Lists](https://docs.python.org/3/tutorial/datastructures.html#more-on-lists)\n",
    "- [Dictionaries](https://docs.python.org/3/tutorial/datastructures.html#dictionaries)\n",
    "- [Sets](https://docs.python.org/3/tutorial/datastructures.html#sets)"
   ]
  },
  {
   "cell_type": "code",
   "execution_count": null,
   "metadata": {
    "colab": {
     "base_uri": "https://localhost:8080/"
    },
    "id": "2-6REMSGwBoN",
    "outputId": "29c912aa-80b5-435e-949c-6cf21e2fcc90"
   },
   "outputs": [],
   "source": [
    "# Integers, and some operations\n",
    "\n",
    "# declare integers\n",
    "a = 123\n",
    "b = 321\n",
    "\n",
    "# declare floating point numbers\n",
    "pi = 3.14\n",
    "# round pi to 0 decimal places\n",
    "engineer_pi = round(pi, 0)\n",
    "\n",
    "# add two integers, results in an int\n",
    "c = a + b\n",
    "print(c, type(c))\n",
    "\n",
    "# add an int and a float, results in a float\n",
    "d = c + pi\n",
    "print(d, type(d))\n"
   ]
  },
  {
   "cell_type": "code",
   "execution_count": null,
   "metadata": {
    "colab": {
     "base_uri": "https://localhost:8080/"
    },
    "id": "bk_1pjRAwXWi",
    "outputId": "40d9fd0b-7a5d-4048-c502-81b4ea940de3"
   },
   "outputs": [],
   "source": [
    "engineer_pi"
   ]
  },
  {
   "cell_type": "markdown",
   "metadata": {},
   "source": [
    "In python, you often need to do work repeatedly, for a specific number of times, or change behavior based on certain logical conditions. All of these are possible using [control flow](https://docs.python.org/3/tutorial/controlflow.html) statements."
   ]
  },
  {
   "cell_type": "code",
   "execution_count": null,
   "metadata": {},
   "outputs": [],
   "source": [
    "for i in range(10):\n",
    "    print(i)"
   ]
  },
  {
   "cell_type": "code",
   "execution_count": null,
   "metadata": {},
   "outputs": [],
   "source": [
    "s = 'b'\n",
    "j = 0\n",
    "while j < 5:\n",
    "    s += 'a' * j\n",
    "    j += 1\n",
    "s += 'x'"
   ]
  },
  {
   "cell_type": "code",
   "execution_count": null,
   "metadata": {},
   "outputs": [],
   "source": [
    "s"
   ]
  },
  {
   "cell_type": "code",
   "execution_count": null,
   "metadata": {},
   "outputs": [],
   "source": [
    "if s[0] == 'b':\n",
    "    print('The first character is a b')\n",
    "elif s[0] == 'c':\n",
    "    print('The first character is a c')\n",
    "else:\n",
    "    print(f'The first character is {s[0]}')"
   ]
  },
  {
   "cell_type": "markdown",
   "metadata": {},
   "source": [
    "One very useful datastructure worth mentioning is the [dictionary](https://docs.python.org/3/tutorial/datastructures.html#dictionaries). Dictionaries map keys to values."
   ]
  },
  {
   "cell_type": "code",
   "execution_count": null,
   "metadata": {},
   "outputs": [],
   "source": [
    "capitalize_map = {\n",
    "    'a': 'A',\n",
    "    'b': 'B',\n",
    "    'c': 'C'\n",
    "}\n",
    "\n",
    "capitalized_s = ''\n",
    "\n",
    "for character in s:\n",
    "    if character in capitalize_map:\n",
    "        capitalized_s += capitalize_map[character]\n",
    "    else:\n",
    "        capitalized_s += character\n",
    "\n",
    "print(capitalized_s)"
   ]
  },
  {
   "cell_type": "markdown",
   "metadata": {
    "id": "sdQEfZpQ3BYI"
   },
   "source": [
    "## Clue Number 1\n",
    "\n",
    "### Python modules\n",
    "\n",
    "In computing, you will find that well designed code can be used in many places and often does a lot of work in only a few lines while hiding details that you may not care about. If you run the cell below, you will import your first python package!"
   ]
  },
  {
   "cell_type": "code",
   "execution_count": null,
   "metadata": {},
   "outputs": [],
   "source": [
    "import this"
   ]
  },
  {
   "cell_type": "markdown",
   "metadata": {},
   "source": [
    "---\n",
    "\n",
    "Importing a module bring functions, datatypes, and variables into the current [python scope](https://docs.python.org/3/tutorial/classes.html#python-scopes-and-namespaces). A scope in programming is like a room in a house; anything you can see within a single room is in scope. Unlike a house though, if there is a room inside of a room (like a closet inside a bedroom), anything available for use in a parent scope (like the [python global namespace](https://realpython.com/python-namespaces-scope/#the-global-namespace)) is also useable in the child namespace.\n",
    "\n",
    "The documentation of a package is the best way to learn how to use a package and its application programming interface (API), but a quick way to get a list of everything brought in by a package is to use the `dir` function."
   ]
  },
  {
   "cell_type": "code",
   "execution_count": null,
   "metadata": {},
   "outputs": [],
   "source": [
    "dir(this)"
   ]
  },
  {
   "cell_type": "markdown",
   "metadata": {},
   "source": [
    "This shows you all of the callable attributes on the package"
   ]
  },
  {
   "cell_type": "code",
   "execution_count": null,
   "metadata": {},
   "outputs": [],
   "source": [
    "this.s"
   ]
  },
  {
   "cell_type": "code",
   "execution_count": null,
   "metadata": {},
   "outputs": [],
   "source": [
    "this.d"
   ]
  },
  {
   "cell_type": "markdown",
   "metadata": {},
   "source": [
    "---\n",
    "As you can see, there just *might* be a hidden message for you to decode. Given the loops and dictionary example above, see if you can decode the message."
   ]
  },
  {
   "cell_type": "code",
   "execution_count": null,
   "metadata": {},
   "outputs": [],
   "source": [
    "# initialize some string\n",
    "decoded = ''\n",
    "\n",
    "# write a for loop going over the encoded string\n",
    "# look up each chacter in the dictionary\n",
    "# append that character to the decoded string\n",
    "\n",
    "\n",
    "print(decoded)"
   ]
  },
  {
   "cell_type": "markdown",
   "metadata": {},
   "source": [
    "---\n",
    "\n",
    "The cell below imports a [builtin python module called `os`](https://docs.python.org/3/library/os.html#module-os). `os` is a very useful module for performing actions that the operating system provides for you, like listing files in a directory."
   ]
  },
  {
   "cell_type": "code",
   "execution_count": null,
   "metadata": {
    "colab": {
     "base_uri": "https://localhost:8080/"
    },
    "id": "E9UyxaaI_kFS",
    "outputId": "f99cadea-e647-4816-bbac-8a99d2644615"
   },
   "outputs": [],
   "source": [
    "import os"
   ]
  },
  {
   "cell_type": "code",
   "execution_count": null,
   "metadata": {},
   "outputs": [],
   "source": [
    "os.listdir()"
   ]
  },
  {
   "cell_type": "markdown",
   "metadata": {
    "id": "xGhu4828A98M"
   },
   "source": [
    "What's this?! There's a file with the extension `.nc`. You overheard a scientist earlier talking about [netCDF](https://www.unidata.ucar.edu/software/netcdf/) data. This must be the first clue!"
   ]
  }
 ],
 "metadata": {
  "colab": {
   "provenance": [],
   "toc_visible": true
  },
  "kernelspec": {
   "display_name": "Python 3 (ipykernel)",
   "language": "python",
   "name": "python3"
  },
  "language_info": {
   "codemirror_mode": {
    "name": "ipython",
    "version": 3
   },
   "file_extension": ".py",
   "mimetype": "text/x-python",
   "name": "python",
   "nbconvert_exporter": "python",
   "pygments_lexer": "ipython3",
   "version": "3.9.15"
  }
 },
 "nbformat": 4,
 "nbformat_minor": 4
}
