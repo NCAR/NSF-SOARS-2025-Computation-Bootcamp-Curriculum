{
 "cells": [
  {
   "cell_type": "markdown",
   "metadata": {
    "id": "lgmZupNxzC9W"
   },
   "source": [
    "# The Mystery of Boreas the Penguin\n",
    "\n",
    "Greetings, NSF SOARS adventurers! As you embark on your scientific journey with us this summer, we have an urgent mystery that only the sharpest minds can solve.\n",
    "\n",
    "Boreas the Penguin, our fearless guide through the world of atmospheric science, has vanished! His last known whereabouts remain a mystery, and we need your expertise to track him down. But fear not—history, science, and the forces of nature have left behind a clue.\n",
    "\n",
    "<center>\n",
    "    <img src=\"img/boreas.png\" alt=\"Boreas the Penguin\" width=\"200\"/>    \n",
    "</center>\n",
    "\n",
    "A powerful [derecho](https://en.wikipedia.org/wiki/Derecho) recently tore through Colorado, its winds howling across the Flatirons just as they have for millennia. In its wake, something peculiar was left at the doorstep of the NSF NCAR Mesa Lab—a place that has stood as a beacon of atmospheric discovery since its founding in 1960 by the NSF National Center for Atmospheric Research (NCAR). There, amidst the swirling dust, our team found a lanyard with a USB thumb drive, its presence as puzzling as a sudden mountain wave cloud over the Front Range.\n",
    "\n",
    "Could this be the key to finding Boreas? The very same winds that helped NSF NCAR's earliest scientists unlock the mysteries of turbulence, climate modeling, and severe storms may have also carried a critical clue to Boreas' location.\n",
    "\n",
    "Our diligent NSF [NCAR Research Information Technology (NRIT)](https://sundog.ucar.edu/page/9124?SearchId=1345861) team has ensured the drive is safe to examine, but the contents remain a mystery. What secrets does it hold? Is it a message? A puzzle? A map guiding us to Boreas?\n",
    "\n",
    "Your mission, should you choose to accept it, is to analyze the data, decode its meaning, and follow the scientific trail—just as NSF NCAR's researchers have done for decades to advance our understanding of the atmosphere. From the pioneering work in numerical weather prediction to today's cutting-edge research in climate science, air quality, and extreme weather, you now stand in the footsteps of discovery.\n",
    "\n",
    "Are you ready to take on the challenge? Boreas is counting on you!\n",
    "Let the adventure begin!\n",
    "\n",
    "\n",
    "\n",
    "\n",
    "\n"
   ]
  },
  {
   "cell_type": "code",
   "execution_count": 1,
   "metadata": {},
   "outputs": [
    {
     "name": "stdout",
     "output_type": "stream",
     "text": [
      "hi\n"
     ]
    }
   ],
   "source": []
  },
  {
   "cell_type": "markdown",
   "metadata": {
    "id": "16HselJOaVli"
   },
   "source": [
    "## Python Notebooks"
   ]
  },
  {
   "cell_type": "markdown",
   "metadata": {
    "id": "ggLuxyyeaYmK"
   },
   "source": [
    "You are currently viewing a [Google Colab Notebook](https://colab.google/notebooks/). This is a version of a [Jupyter Notebook](https://jupyter.org/), but with access to some free CPU and GPU resources provided by Google."
   ]
  },
  {
   "cell_type": "markdown",
   "metadata": {
    "id": "cG6iY5pza94d"
   },
   "source": [
    "Notebooks are a mix of narrative text and computations. This adventure is meant to explain how to use notebooks, introduce you to python, and hopefully be a good bit of fun."
   ]
  },
  {
   "cell_type": "markdown",
   "metadata": {
    "id": "1u7dVhL2bKrY"
   },
   "source": [
    "To start, let's introduce some basic [python](https://www.python.org/) concepts!\n",
    "\n",
    "Python is a high level programming language whose popularity has exploded in recent years due to its versatility. Common uses are writing web servers, automation scripts, data science and analysis, and machine learning."
   ]
  },
  {
   "cell_type": "markdown",
   "metadata": {
    "id": "Fjm7ZvxQbluJ"
   },
   "source": [
    "The simplest program you can write in python is one line. Click on the cell below and run it by pressing the play button, or SHIFT+ENTER."
   ]
  },
  {
   "cell_type": "code",
   "execution_count": null,
   "metadata": {
    "colab": {
     "base_uri": "https://localhost:8080/"
    },
    "id": "jPN2iySSr8iH",
    "outputId": "3a5071c2-e3b9-42b2-c45e-c05caa45318a"
   },
   "outputs": [
    {
     "name": "stdout",
     "output_type": "stream",
     "text": [
      "Good morning, starshine. The earth says hello!\n"
     ]
    }
   ],
   "source": [
    "print(\"Good morning, starshine. The earth says hello!\")"
   ]
  },
  {
   "cell_type": "markdown",
   "metadata": {
    "id": "xQLMBlTer_hI"
   },
   "source": [
    "[`print`](https://docs.python.org/3/tutorial/inputoutput.html) statements are used quite often to update the status of a running program, but they are also a great tool to use when debugging!"
   ]
  },
  {
   "cell_type": "markdown",
   "metadata": {
    "id": "MYpYeQmWsOFQ"
   },
   "source": [
    "Programs operate on data. Naturally, we can store data we wish to process and give them a name. We call these variables. In python, you can declare variables using an `=` sign."
   ]
  },
  {
   "cell_type": "code",
   "execution_count": null,
   "metadata": {
    "id": "h_ZUvP6fsneM"
   },
   "outputs": [],
   "source": [
    "my_first_variable = \"None pizza\"\n",
    "my_second_variable = \", left beef\""
   ]
  },
  {
   "cell_type": "markdown",
   "metadata": {
    "id": "UkfsclIHs1zE"
   },
   "source": [
    "After running the above cell, your two variables will be defined and useable within the current [scope](https://docs.python.org/3/tutorial/classes.html#python-scopes-and-namespaces). The print statement can print any valid [datatype](https://docs.python.org/3/library/datatypes.html). Complete the cell below by printing out each variable on it's own line"
   ]
  },
  {
   "cell_type": "code",
   "execution_count": null,
   "metadata": {
    "colab": {
     "base_uri": "https://localhost:8080/"
    },
    "id": "UqAbBG8StngU",
    "outputId": "5172bd33-518a-41e0-b63b-5479587f2d9d"
   },
   "outputs": [
    {
     "name": "stdout",
     "output_type": "stream",
     "text": [
      "Replace this string with a variable name\n",
      "Replace this string with a variable name\n"
     ]
    }
   ],
   "source": [
    "print(\"Replace this string with a variable name\")\n",
    "print(\"Replace this string with a variable name\")"
   ]
  },
  {
   "cell_type": "markdown",
   "metadata": {
    "id": "D_tcnmxOuXpD"
   },
   "source": [
    "The two variables you defined above are both `str`ing types. In python, you can concatenate two strings together by adding their values. You do so using the `+` operator."
   ]
  },
  {
   "cell_type": "code",
   "execution_count": null,
   "metadata": {
    "colab": {
     "base_uri": "https://localhost:8080/"
    },
    "id": "_4TvOXNeus1J",
    "outputId": "43270189-a47a-4fae-a372-2ea20411a2e6"
   },
   "outputs": [
    {
     "name": "stdout",
     "output_type": "stream",
     "text": [
      "None pizza, left beef\n"
     ]
    }
   ],
   "source": [
    "print(my_first_variable + my_second_variable)"
   ]
  },
  {
   "cell_type": "markdown",
   "metadata": {
    "id": "aydfT4F0uwmw"
   },
   "source": [
    "Python has many data types. The most common data types you will use are listed below along with a few examples. There are many operations you can do for each of these. The examples are not exhaustive, so please look up each datatype to learn more about how you can use them.\n",
    "\n",
    "- [Integers](https://docs.python.org/3/library/functions.html#int)\n",
    "- [Floating point numbrers (real numbers)](https://docs.python.org/3/library/functions.html#float)\n",
    "- [Booleans (logical `true`/`false`)](https://docs.python.org/3/library/functions.html#bool)\n",
    "- [Lists](https://docs.python.org/3/tutorial/datastructures.html#more-on-lists)\n",
    "- [Dictionaries](https://docs.python.org/3/tutorial/datastructures.html#dictionaries)\n",
    "- [Sets](https://docs.python.org/3/tutorial/datastructures.html#sets)"
   ]
  },
  {
   "cell_type": "code",
   "execution_count": null,
   "metadata": {
    "colab": {
     "base_uri": "https://localhost:8080/"
    },
    "id": "2-6REMSGwBoN",
    "outputId": "29c912aa-80b5-435e-949c-6cf21e2fcc90"
   },
   "outputs": [
    {
     "name": "stdout",
     "output_type": "stream",
     "text": [
      "444 <class 'int'>\n",
      "447.14 <class 'float'>\n"
     ]
    }
   ],
   "source": [
    "# Integers, and some operations\n",
    "\n",
    "# declare integers\n",
    "a = 123\n",
    "b = 321\n",
    "\n",
    "# declare floating point numbers\n",
    "pi = 3.14\n",
    "# round pi to 0 decimal places\n",
    "engineer_pi = round(pi, 0)\n",
    "\n",
    "# add two integers, results in an int\n",
    "c = a + b\n",
    "print(c, type(c))\n",
    "\n",
    "# add an int and a float, results in a float\n",
    "d = c + pi\n",
    "print(d, type(d))\n"
   ]
  },
  {
   "cell_type": "code",
   "execution_count": null,
   "metadata": {
    "colab": {
     "base_uri": "https://localhost:8080/"
    },
    "id": "bk_1pjRAwXWi",
    "outputId": "40d9fd0b-7a5d-4048-c502-81b4ea940de3"
   },
   "outputs": [
    {
     "data": {
      "text/plain": [
       "3.0"
      ]
     },
     "execution_count": 31,
     "metadata": {},
     "output_type": "execute_result"
    }
   ],
   "source": [
    "engineer_pi"
   ]
  },
  {
   "cell_type": "markdown",
   "metadata": {
    "id": "sdQEfZpQ3BYI"
   },
   "source": [
    "## Running Linux Commands\n",
    "\n",
    "Notebooks, like this one, are hosted on computers, specifically Linux computers. This means we have access to a Linux [terminal](https://en.wikipedia.org/wiki/Linux_console). While google colab does contain a filesystem explorer, you may notice that our data file `the_clue` does **not** contain a file extension.\n",
    "\n",
    "Fortunately, there's a powerful Linux program called `file` which can help us identify this file.\n",
    "\n",
    "To run linux commands, you have to use an [escape character](https://en.wikipedia.org/wiki/Escape_character) to signal to a code cell that you want to run a Linux command. In Jupyter notebook, the terminal escape character is the `!`. The example below runs a program `ls`, which lists a file directory."
   ]
  },
  {
   "cell_type": "code",
   "execution_count": null,
   "metadata": {
    "colab": {
     "base_uri": "https://localhost:8080/"
    },
    "id": "E9UyxaaI_kFS",
    "outputId": "f99cadea-e647-4816-bbac-8a99d2644615"
   },
   "outputs": [
    {
     "name": "stdout",
     "output_type": "stream",
     "text": [
      "sample_data\n"
     ]
    }
   ],
   "source": [
    "!ls"
   ]
  },
  {
   "cell_type": "markdown",
   "metadata": {
    "id": "g33NZXlBCeAb"
   },
   "source": [
    "We can also pass arguments to Linux commands"
   ]
  },
  {
   "cell_type": "code",
   "execution_count": null,
   "metadata": {
    "colab": {
     "base_uri": "https://localhost:8080/"
    },
    "id": "vGIAe5CpCgkw",
    "outputId": "f7120c22-b301-453e-a3b1-d2f87962c3b8"
   },
   "outputs": [
    {
     "name": "stdout",
     "output_type": "stream",
     "text": [
      "total 55512\n",
      "drwxr-xr-x 1 root root     4096 Feb 18 14:20 .\n",
      "drwxr-xr-x 1 root root     4096 Feb 18 14:20 ..\n",
      "-rwxr-xr-x 1 root root     1697 Jan  1  2000 anscombe.json\n",
      "-rw-r--r-- 1 root root   301141 Feb 18 14:20 california_housing_test.csv\n",
      "-rw-r--r-- 1 root root  1706430 Feb 18 14:20 california_housing_train.csv\n",
      "-rw-r--r-- 1 root root 18289443 Feb 18 14:20 mnist_test.csv\n",
      "-rw-r--r-- 1 root root 36523880 Feb 18 14:20 mnist_train_small.csv\n",
      "-rwxr-xr-x 1 root root      962 Jan  1  2000 README.md\n"
     ]
    }
   ],
   "source": [
    "!ls -al sample_data"
   ]
  },
  {
   "cell_type": "markdown",
   "metadata": {
    "id": "xGhu4828A98M"
   },
   "source": [
    "### Clue Number 1\n",
    "> Use the `file` command to invesitage what `the_clue` is"
   ]
  },
  {
   "cell_type": "code",
   "execution_count": null,
   "metadata": {
    "colab": {
     "base_uri": "https://localhost:8080/"
    },
    "id": "rc96BVODB99Y",
    "outputId": "ffd3dfd5-f647-47bf-f624-fa4d82cba7fc"
   },
   "outputs": [
    {
     "name": "stdout",
     "output_type": "stream",
     "text": [
      "boreas_mystery.nc: Hierarchical Data Format (version 5) data\n"
     ]
    }
   ],
   "source": [
    "!file boreas_mystery.nc"
   ]
  },
  {
   "cell_type": "code",
   "execution_count": null,
   "metadata": {
    "colab": {
     "base_uri": "https://localhost:8080/"
    },
    "id": "uklWktexIvYg",
    "outputId": "3a99c1cb-a85b-4701-ef2a-f22ec1265a79"
   },
   "outputs": [
    {
     "name": "stdout",
     "output_type": "stream",
     "text": [
      "Reading package lists... Done\n",
      "Building dependency tree... Done\n",
      "Reading state information... Done\n",
      "libnetcdf-dev is already the newest version (1:4.8.1-1).\n",
      "libnetcdf-dev set to manually installed.\n",
      "The following NEW packages will be installed:\n",
      "  netcdf-bin\n",
      "0 upgraded, 1 newly installed, 0 to remove and 29 not upgraded.\n",
      "Need to get 204 kB of archives.\n",
      "After this operation, 557 kB of additional disk space will be used.\n",
      "Get:1 http://archive.ubuntu.com/ubuntu jammy/universe amd64 netcdf-bin amd64 1:4.8.1-1 [204 kB]\n",
      "Fetched 204 kB in 1s (264 kB/s)\n",
      "Selecting previously unselected package netcdf-bin.\n",
      "(Reading database ... 124947 files and directories currently installed.)\n",
      "Preparing to unpack .../netcdf-bin_1%3a4.8.1-1_amd64.deb ...\n",
      "Unpacking netcdf-bin (1:4.8.1-1) ...\n",
      "Setting up netcdf-bin (1:4.8.1-1) ...\n",
      "Processing triggers for man-db (2.10.2-1) ...\n"
     ]
    }
   ],
   "source": [
    "!apt-get install -y netcdf-bin libnetcdf-dev"
   ]
  },
  {
   "cell_type": "markdown",
   "metadata": {
    "id": "Cxa5HHqbCwHb"
   },
   "source": [
    "## Basic steps\n",
    "\n",
    "It turns out, the thumb drive containing the file also contained a list of  file types that seem to have some relation to `the_clue`.\n",
    "\n",
    "- NetCDF Data Format data (64-bit offset)\n",
    "- Hierarchical Data Format (version 5) data\n",
    "- CSV text\n",
    "\n",
    "You notice that the output\n"
   ]
  },
  {
   "cell_type": "markdown",
   "metadata": {
    "id": "3mkG7bktFGOU"
   },
   "source": [
    "# Workspace"
   ]
  },
  {
   "cell_type": "code",
   "execution_count": null,
   "metadata": {
    "id": "btmPUIu1E5LN"
   },
   "outputs": [],
   "source": [
    "import xarray as xr\n",
    "import numpy as np"
   ]
  },
  {
   "cell_type": "code",
   "execution_count": null,
   "metadata": {
    "id": "LyZYQI-7E6mM"
   },
   "outputs": [],
   "source": [
    "ds = xr.Dataset()"
   ]
  },
  {
   "cell_type": "code",
   "execution_count": null,
   "metadata": {
    "id": "0HzIKHluE8Bl"
   },
   "outputs": [],
   "source": [
    "ds.to_netcdf('the_clue')"
   ]
  },
  {
   "cell_type": "code",
   "execution_count": null,
   "metadata": {
    "id": "Fm-d8wdaQpkD"
   },
   "outputs": [],
   "source": [
    "location_data = {\n",
    "    \"NCAR Mesa Lab\": (39.987, -105.264),\n",
    "    \"Flatirons\": (39.977, -105.283),\n",
    "    \"Pearl Street Mall\": (40.018, -105.278),\n",
    "    \"Chautauqua Park\": (39.999, -105.281),\n",
    "    \"Boulder Reservoir\": (40.070, -105.227),\n",
    "    \"Flagstaff Mountain\": (40.003, -105.297),\n",
    "}\n",
    "\n",
    "locations = list(location_data.keys())\n",
    "latitudes = np.array([loc[0] for loc in location_data.values()])\n",
    "longitudes = np.array([loc[1] for loc in location_data.values()])\n",
    "\n",
    "ds_main = xr.Dataset(\n",
    "    {\n",
    "        \"latitude\": ([\"location\"], latitudes, {\"units\": \"degrees_north\"}),\n",
    "        \"longitude\": ([\"location\"], longitudes, {\"units\": \"degrees_east\"}),\n",
    "        \"location_name\": ([\"location\"], locations, {\"comment\": \"One of these locations holds the key. But which one?\"}),\n",
    "    },\n",
    "    coords={\"location\": locations},\n",
    "    attrs={\n",
    "        \"title\": \"The Mystery of Boreas the Penguin\",\n",
    "        \"institution\": \"NCAR - National Center for Atmospheric Research\",\n",
    "        \"history\": \"Created for the NSF SOARS interns\",\n",
    "        \"comment\": \"The wind whispers secrets. Seek Boreas where science meets the sky.\",\n",
    "    }\n",
    ")\n",
    "\n",
    "# Create a separate Dataset for the hidden \"secrets\" group\n",
    "ds_secrets = xr.Dataset(\n",
    "    {\n",
    "        \"hidden_message\": ([], \"Boreas followed the wind... but where did it lead?\",\n",
    "                           {\"note\": \"Look deeper into the data. The answer is not always at the surface.\"})\n",
    "    },\n",
    "    attrs={\"description\": \"A hidden archive of Boreas' last known research.\"}\n",
    ")\n",
    "\n",
    "filename = \"boreas_mystery.nc\"\n",
    "ds_main.to_netcdf(filename, group=\"/\")  # Save main dataset in root group\n",
    "ds_secrets.to_netcdf(filename, mode=\"a\", group=\"secrets\")  # Append secrets dataset to \"secrets\" group\n"
   ]
  },
  {
   "cell_type": "code",
   "execution_count": null,
   "metadata": {
    "id": "qHgPMawdRaxO"
   },
   "outputs": [],
   "source": [
    "ds = xr.open_datatree(filename)"
   ]
  },
  {
   "cell_type": "code",
   "execution_count": null,
   "metadata": {
    "colab": {
     "base_uri": "https://localhost:8080/",
     "height": 265
    },
    "id": "C45CnWo4TUO-",
    "outputId": "58f921ce-607c-43f5-8e5f-c23a8a87334e"
   },
   "outputs": [
    {
     "data": {
      "text/html": [
       "<div><svg style=\"position: absolute; width: 0; height: 0; overflow: hidden\">\n",
       "<defs>\n",
       "<symbol id=\"icon-database\" viewBox=\"0 0 32 32\">\n",
       "<path d=\"M16 0c-8.837 0-16 2.239-16 5v4c0 2.761 7.163 5 16 5s16-2.239 16-5v-4c0-2.761-7.163-5-16-5z\"></path>\n",
       "<path d=\"M16 17c-8.837 0-16-2.239-16-5v6c0 2.761 7.163 5 16 5s16-2.239 16-5v-6c0 2.761-7.163 5-16 5z\"></path>\n",
       "<path d=\"M16 26c-8.837 0-16-2.239-16-5v6c0 2.761 7.163 5 16 5s16-2.239 16-5v-6c0 2.761-7.163 5-16 5z\"></path>\n",
       "</symbol>\n",
       "<symbol id=\"icon-file-text2\" viewBox=\"0 0 32 32\">\n",
       "<path d=\"M28.681 7.159c-0.694-0.947-1.662-2.053-2.724-3.116s-2.169-2.030-3.116-2.724c-1.612-1.182-2.393-1.319-2.841-1.319h-15.5c-1.378 0-2.5 1.121-2.5 2.5v27c0 1.378 1.122 2.5 2.5 2.5h23c1.378 0 2.5-1.122 2.5-2.5v-19.5c0-0.448-0.137-1.23-1.319-2.841zM24.543 5.457c0.959 0.959 1.712 1.825 2.268 2.543h-4.811v-4.811c0.718 0.556 1.584 1.309 2.543 2.268zM28 29.5c0 0.271-0.229 0.5-0.5 0.5h-23c-0.271 0-0.5-0.229-0.5-0.5v-27c0-0.271 0.229-0.5 0.5-0.5 0 0 15.499-0 15.5 0v7c0 0.552 0.448 1 1 1h7v19.5z\"></path>\n",
       "<path d=\"M23 26h-14c-0.552 0-1-0.448-1-1s0.448-1 1-1h14c0.552 0 1 0.448 1 1s-0.448 1-1 1z\"></path>\n",
       "<path d=\"M23 22h-14c-0.552 0-1-0.448-1-1s0.448-1 1-1h14c0.552 0 1 0.448 1 1s-0.448 1-1 1z\"></path>\n",
       "<path d=\"M23 18h-14c-0.552 0-1-0.448-1-1s0.448-1 1-1h14c0.552 0 1 0.448 1 1s-0.448 1-1 1z\"></path>\n",
       "</symbol>\n",
       "</defs>\n",
       "</svg>\n",
       "<style>/* CSS stylesheet for displaying xarray objects in jupyterlab.\n",
       " *\n",
       " */\n",
       "\n",
       ":root {\n",
       "  --xr-font-color0: var(--jp-content-font-color0, rgba(0, 0, 0, 1));\n",
       "  --xr-font-color2: var(--jp-content-font-color2, rgba(0, 0, 0, 0.54));\n",
       "  --xr-font-color3: var(--jp-content-font-color3, rgba(0, 0, 0, 0.38));\n",
       "  --xr-border-color: var(--jp-border-color2, #e0e0e0);\n",
       "  --xr-disabled-color: var(--jp-layout-color3, #bdbdbd);\n",
       "  --xr-background-color: var(--jp-layout-color0, white);\n",
       "  --xr-background-color-row-even: var(--jp-layout-color1, white);\n",
       "  --xr-background-color-row-odd: var(--jp-layout-color2, #eeeeee);\n",
       "}\n",
       "\n",
       "html[theme=\"dark\"],\n",
       "html[data-theme=\"dark\"],\n",
       "body[data-theme=\"dark\"],\n",
       "body.vscode-dark {\n",
       "  --xr-font-color0: rgba(255, 255, 255, 1);\n",
       "  --xr-font-color2: rgba(255, 255, 255, 0.54);\n",
       "  --xr-font-color3: rgba(255, 255, 255, 0.38);\n",
       "  --xr-border-color: #1f1f1f;\n",
       "  --xr-disabled-color: #515151;\n",
       "  --xr-background-color: #111111;\n",
       "  --xr-background-color-row-even: #111111;\n",
       "  --xr-background-color-row-odd: #313131;\n",
       "}\n",
       "\n",
       ".xr-wrap {\n",
       "  display: block !important;\n",
       "  min-width: 300px;\n",
       "  max-width: 700px;\n",
       "}\n",
       "\n",
       ".xr-text-repr-fallback {\n",
       "  /* fallback to plain text repr when CSS is not injected (untrusted notebook) */\n",
       "  display: none;\n",
       "}\n",
       "\n",
       ".xr-header {\n",
       "  padding-top: 6px;\n",
       "  padding-bottom: 6px;\n",
       "  margin-bottom: 4px;\n",
       "  border-bottom: solid 1px var(--xr-border-color);\n",
       "}\n",
       "\n",
       ".xr-header > div,\n",
       ".xr-header > ul {\n",
       "  display: inline;\n",
       "  margin-top: 0;\n",
       "  margin-bottom: 0;\n",
       "}\n",
       "\n",
       ".xr-obj-type,\n",
       ".xr-array-name {\n",
       "  margin-left: 2px;\n",
       "  margin-right: 10px;\n",
       "}\n",
       "\n",
       ".xr-obj-type {\n",
       "  color: var(--xr-font-color2);\n",
       "}\n",
       "\n",
       ".xr-sections {\n",
       "  padding-left: 0 !important;\n",
       "  display: grid;\n",
       "  grid-template-columns: 150px auto auto 1fr 0 20px 0 20px;\n",
       "}\n",
       "\n",
       ".xr-section-item {\n",
       "  display: contents;\n",
       "}\n",
       "\n",
       ".xr-section-item input {\n",
       "  display: inline-block;\n",
       "  opacity: 0;\n",
       "  height: 0;\n",
       "}\n",
       "\n",
       ".xr-section-item input + label {\n",
       "  color: var(--xr-disabled-color);\n",
       "}\n",
       "\n",
       ".xr-section-item input:enabled + label {\n",
       "  cursor: pointer;\n",
       "  color: var(--xr-font-color2);\n",
       "}\n",
       "\n",
       ".xr-section-item input:focus + label {\n",
       "  border: 2px solid var(--xr-font-color0);\n",
       "}\n",
       "\n",
       ".xr-section-item input:enabled + label:hover {\n",
       "  color: var(--xr-font-color0);\n",
       "}\n",
       "\n",
       ".xr-section-summary {\n",
       "  grid-column: 1;\n",
       "  color: var(--xr-font-color2);\n",
       "  font-weight: 500;\n",
       "}\n",
       "\n",
       ".xr-section-summary > span {\n",
       "  display: inline-block;\n",
       "  padding-left: 0.5em;\n",
       "}\n",
       "\n",
       ".xr-section-summary-in:disabled + label {\n",
       "  color: var(--xr-font-color2);\n",
       "}\n",
       "\n",
       ".xr-section-summary-in + label:before {\n",
       "  display: inline-block;\n",
       "  content: \"►\";\n",
       "  font-size: 11px;\n",
       "  width: 15px;\n",
       "  text-align: center;\n",
       "}\n",
       "\n",
       ".xr-section-summary-in:disabled + label:before {\n",
       "  color: var(--xr-disabled-color);\n",
       "}\n",
       "\n",
       ".xr-section-summary-in:checked + label:before {\n",
       "  content: \"▼\";\n",
       "}\n",
       "\n",
       ".xr-section-summary-in:checked + label > span {\n",
       "  display: none;\n",
       "}\n",
       "\n",
       ".xr-section-summary,\n",
       ".xr-section-inline-details {\n",
       "  padding-top: 4px;\n",
       "  padding-bottom: 4px;\n",
       "}\n",
       "\n",
       ".xr-section-inline-details {\n",
       "  grid-column: 2 / -1;\n",
       "}\n",
       "\n",
       ".xr-section-details {\n",
       "  display: none;\n",
       "  grid-column: 1 / -1;\n",
       "  margin-bottom: 5px;\n",
       "}\n",
       "\n",
       ".xr-section-summary-in:checked ~ .xr-section-details {\n",
       "  display: contents;\n",
       "}\n",
       "\n",
       ".xr-array-wrap {\n",
       "  grid-column: 1 / -1;\n",
       "  display: grid;\n",
       "  grid-template-columns: 20px auto;\n",
       "}\n",
       "\n",
       ".xr-array-wrap > label {\n",
       "  grid-column: 1;\n",
       "  vertical-align: top;\n",
       "}\n",
       "\n",
       ".xr-preview {\n",
       "  color: var(--xr-font-color3);\n",
       "}\n",
       "\n",
       ".xr-array-preview,\n",
       ".xr-array-data {\n",
       "  padding: 0 5px !important;\n",
       "  grid-column: 2;\n",
       "}\n",
       "\n",
       ".xr-array-data,\n",
       ".xr-array-in:checked ~ .xr-array-preview {\n",
       "  display: none;\n",
       "}\n",
       "\n",
       ".xr-array-in:checked ~ .xr-array-data,\n",
       ".xr-array-preview {\n",
       "  display: inline-block;\n",
       "}\n",
       "\n",
       ".xr-dim-list {\n",
       "  display: inline-block !important;\n",
       "  list-style: none;\n",
       "  padding: 0 !important;\n",
       "  margin: 0;\n",
       "}\n",
       "\n",
       ".xr-dim-list li {\n",
       "  display: inline-block;\n",
       "  padding: 0;\n",
       "  margin: 0;\n",
       "}\n",
       "\n",
       ".xr-dim-list:before {\n",
       "  content: \"(\";\n",
       "}\n",
       "\n",
       ".xr-dim-list:after {\n",
       "  content: \")\";\n",
       "}\n",
       "\n",
       ".xr-dim-list li:not(:last-child):after {\n",
       "  content: \",\";\n",
       "  padding-right: 5px;\n",
       "}\n",
       "\n",
       ".xr-has-index {\n",
       "  font-weight: bold;\n",
       "}\n",
       "\n",
       ".xr-var-list,\n",
       ".xr-var-item {\n",
       "  display: contents;\n",
       "}\n",
       "\n",
       ".xr-var-item > div,\n",
       ".xr-var-item label,\n",
       ".xr-var-item > .xr-var-name span {\n",
       "  background-color: var(--xr-background-color-row-even);\n",
       "  margin-bottom: 0;\n",
       "}\n",
       "\n",
       ".xr-var-item > .xr-var-name:hover span {\n",
       "  padding-right: 5px;\n",
       "}\n",
       "\n",
       ".xr-var-list > li:nth-child(odd) > div,\n",
       ".xr-var-list > li:nth-child(odd) > label,\n",
       ".xr-var-list > li:nth-child(odd) > .xr-var-name span {\n",
       "  background-color: var(--xr-background-color-row-odd);\n",
       "}\n",
       "\n",
       ".xr-var-name {\n",
       "  grid-column: 1;\n",
       "}\n",
       "\n",
       ".xr-var-dims {\n",
       "  grid-column: 2;\n",
       "}\n",
       "\n",
       ".xr-var-dtype {\n",
       "  grid-column: 3;\n",
       "  text-align: right;\n",
       "  color: var(--xr-font-color2);\n",
       "}\n",
       "\n",
       ".xr-var-preview {\n",
       "  grid-column: 4;\n",
       "}\n",
       "\n",
       ".xr-index-preview {\n",
       "  grid-column: 2 / 5;\n",
       "  color: var(--xr-font-color2);\n",
       "}\n",
       "\n",
       ".xr-var-name,\n",
       ".xr-var-dims,\n",
       ".xr-var-dtype,\n",
       ".xr-preview,\n",
       ".xr-attrs dt {\n",
       "  white-space: nowrap;\n",
       "  overflow: hidden;\n",
       "  text-overflow: ellipsis;\n",
       "  padding-right: 10px;\n",
       "}\n",
       "\n",
       ".xr-var-name:hover,\n",
       ".xr-var-dims:hover,\n",
       ".xr-var-dtype:hover,\n",
       ".xr-attrs dt:hover {\n",
       "  overflow: visible;\n",
       "  width: auto;\n",
       "  z-index: 1;\n",
       "}\n",
       "\n",
       ".xr-var-attrs,\n",
       ".xr-var-data,\n",
       ".xr-index-data {\n",
       "  display: none;\n",
       "  background-color: var(--xr-background-color) !important;\n",
       "  padding-bottom: 5px !important;\n",
       "}\n",
       "\n",
       ".xr-var-attrs-in:checked ~ .xr-var-attrs,\n",
       ".xr-var-data-in:checked ~ .xr-var-data,\n",
       ".xr-index-data-in:checked ~ .xr-index-data {\n",
       "  display: block;\n",
       "}\n",
       "\n",
       ".xr-var-data > table {\n",
       "  float: right;\n",
       "}\n",
       "\n",
       ".xr-var-name span,\n",
       ".xr-var-data,\n",
       ".xr-index-name div,\n",
       ".xr-index-data,\n",
       ".xr-attrs {\n",
       "  padding-left: 25px !important;\n",
       "}\n",
       "\n",
       ".xr-attrs,\n",
       ".xr-var-attrs,\n",
       ".xr-var-data,\n",
       ".xr-index-data {\n",
       "  grid-column: 1 / -1;\n",
       "}\n",
       "\n",
       "dl.xr-attrs {\n",
       "  padding: 0;\n",
       "  margin: 0;\n",
       "  display: grid;\n",
       "  grid-template-columns: 125px auto;\n",
       "}\n",
       "\n",
       ".xr-attrs dt,\n",
       ".xr-attrs dd {\n",
       "  padding: 0;\n",
       "  margin: 0;\n",
       "  float: left;\n",
       "  padding-right: 10px;\n",
       "  width: auto;\n",
       "}\n",
       "\n",
       ".xr-attrs dt {\n",
       "  font-weight: normal;\n",
       "  grid-column: 1;\n",
       "}\n",
       "\n",
       ".xr-attrs dt:hover span {\n",
       "  display: inline-block;\n",
       "  background: var(--xr-background-color);\n",
       "  padding-right: 10px;\n",
       "}\n",
       "\n",
       ".xr-attrs dd {\n",
       "  grid-column: 2;\n",
       "  white-space: pre-wrap;\n",
       "  word-break: break-all;\n",
       "}\n",
       "\n",
       ".xr-icon-database,\n",
       ".xr-icon-file-text2,\n",
       ".xr-no-icon {\n",
       "  display: inline-block;\n",
       "  vertical-align: middle;\n",
       "  width: 1em;\n",
       "  height: 1.5em !important;\n",
       "  stroke-width: 0;\n",
       "  stroke: currentColor;\n",
       "  fill: currentColor;\n",
       "}\n",
       "</style><pre class='xr-text-repr-fallback'>&lt;xarray.DatasetView&gt; Size: 960B\n",
       "Dimensions:        (location: 6)\n",
       "Coordinates:\n",
       "  * location       (location) &lt;U18 432B &#x27;NCAR Mesa Lab&#x27; ... &#x27;Flagstaff Mountain&#x27;\n",
       "Data variables:\n",
       "    latitude       (location) float64 48B ...\n",
       "    longitude      (location) float64 48B ...\n",
       "    location_name  (location) &lt;U18 432B ...\n",
       "Attributes:\n",
       "    title:        The Mystery of Boreas the Penguin\n",
       "    institution:  NCAR - National Center for Atmospheric Research\n",
       "    history:      Created for the NSF SOARS interns\n",
       "    comment:      The wind whispers secrets. Seek Boreas where science meets ...</pre><div class='xr-wrap' style='display:none'><div class='xr-header'><div class='xr-obj-type'>xarray.DataTree</div></div><ul class='xr-sections'><li class='xr-section-item'><input id='section-1f13ec3a-8c1c-4ae3-aa7b-5b7b838cd45a' class='xr-section-summary-in' type='checkbox'  ><label for='section-1f13ec3a-8c1c-4ae3-aa7b-5b7b838cd45a' class='xr-section-summary' >Groups: <span>(1)</span></label><div class='xr-section-inline-details'></div><div class='xr-section-details'><div style='display: inline-grid; grid-template-columns: 100%; grid-column: 1 / -1'><div style='display: inline-grid; grid-template-columns: 0px 20px auto; width: 100%;'><div style='grid-column-start: 1;border-right: 0.2em solid;border-color: var(--xr-border-color);height: 1.2em;width: 0px;'></div><div style='grid-column-start: 2;grid-row-start: 1;height: 1em;width: 20px;border-bottom: 0.2em solid;border-color: var(--xr-border-color);'></div><div style='grid-column-start: 3;'><div><svg style=\"position: absolute; width: 0; height: 0; overflow: hidden\">\n",
       "<defs>\n",
       "<symbol id=\"icon-database\" viewBox=\"0 0 32 32\">\n",
       "<path d=\"M16 0c-8.837 0-16 2.239-16 5v4c0 2.761 7.163 5 16 5s16-2.239 16-5v-4c0-2.761-7.163-5-16-5z\"></path>\n",
       "<path d=\"M16 17c-8.837 0-16-2.239-16-5v6c0 2.761 7.163 5 16 5s16-2.239 16-5v-6c0 2.761-7.163 5-16 5z\"></path>\n",
       "<path d=\"M16 26c-8.837 0-16-2.239-16-5v6c0 2.761 7.163 5 16 5s16-2.239 16-5v-6c0 2.761-7.163 5-16 5z\"></path>\n",
       "</symbol>\n",
       "<symbol id=\"icon-file-text2\" viewBox=\"0 0 32 32\">\n",
       "<path d=\"M28.681 7.159c-0.694-0.947-1.662-2.053-2.724-3.116s-2.169-2.030-3.116-2.724c-1.612-1.182-2.393-1.319-2.841-1.319h-15.5c-1.378 0-2.5 1.121-2.5 2.5v27c0 1.378 1.122 2.5 2.5 2.5h23c1.378 0 2.5-1.122 2.5-2.5v-19.5c0-0.448-0.137-1.23-1.319-2.841zM24.543 5.457c0.959 0.959 1.712 1.825 2.268 2.543h-4.811v-4.811c0.718 0.556 1.584 1.309 2.543 2.268zM28 29.5c0 0.271-0.229 0.5-0.5 0.5h-23c-0.271 0-0.5-0.229-0.5-0.5v-27c0-0.271 0.229-0.5 0.5-0.5 0 0 15.499-0 15.5 0v7c0 0.552 0.448 1 1 1h7v19.5z\"></path>\n",
       "<path d=\"M23 26h-14c-0.552 0-1-0.448-1-1s0.448-1 1-1h14c0.552 0 1 0.448 1 1s-0.448 1-1 1z\"></path>\n",
       "<path d=\"M23 22h-14c-0.552 0-1-0.448-1-1s0.448-1 1-1h14c0.552 0 1 0.448 1 1s-0.448 1-1 1z\"></path>\n",
       "<path d=\"M23 18h-14c-0.552 0-1-0.448-1-1s0.448-1 1-1h14c0.552 0 1 0.448 1 1s-0.448 1-1 1z\"></path>\n",
       "</symbol>\n",
       "</defs>\n",
       "</svg>\n",
       "<style>/* CSS stylesheet for displaying xarray objects in jupyterlab.\n",
       " *\n",
       " */\n",
       "\n",
       ":root {\n",
       "  --xr-font-color0: var(--jp-content-font-color0, rgba(0, 0, 0, 1));\n",
       "  --xr-font-color2: var(--jp-content-font-color2, rgba(0, 0, 0, 0.54));\n",
       "  --xr-font-color3: var(--jp-content-font-color3, rgba(0, 0, 0, 0.38));\n",
       "  --xr-border-color: var(--jp-border-color2, #e0e0e0);\n",
       "  --xr-disabled-color: var(--jp-layout-color3, #bdbdbd);\n",
       "  --xr-background-color: var(--jp-layout-color0, white);\n",
       "  --xr-background-color-row-even: var(--jp-layout-color1, white);\n",
       "  --xr-background-color-row-odd: var(--jp-layout-color2, #eeeeee);\n",
       "}\n",
       "\n",
       "html[theme=\"dark\"],\n",
       "html[data-theme=\"dark\"],\n",
       "body[data-theme=\"dark\"],\n",
       "body.vscode-dark {\n",
       "  --xr-font-color0: rgba(255, 255, 255, 1);\n",
       "  --xr-font-color2: rgba(255, 255, 255, 0.54);\n",
       "  --xr-font-color3: rgba(255, 255, 255, 0.38);\n",
       "  --xr-border-color: #1f1f1f;\n",
       "  --xr-disabled-color: #515151;\n",
       "  --xr-background-color: #111111;\n",
       "  --xr-background-color-row-even: #111111;\n",
       "  --xr-background-color-row-odd: #313131;\n",
       "}\n",
       "\n",
       ".xr-wrap {\n",
       "  display: block !important;\n",
       "  min-width: 300px;\n",
       "  max-width: 700px;\n",
       "}\n",
       "\n",
       ".xr-text-repr-fallback {\n",
       "  /* fallback to plain text repr when CSS is not injected (untrusted notebook) */\n",
       "  display: none;\n",
       "}\n",
       "\n",
       ".xr-header {\n",
       "  padding-top: 6px;\n",
       "  padding-bottom: 6px;\n",
       "  margin-bottom: 4px;\n",
       "  border-bottom: solid 1px var(--xr-border-color);\n",
       "}\n",
       "\n",
       ".xr-header > div,\n",
       ".xr-header > ul {\n",
       "  display: inline;\n",
       "  margin-top: 0;\n",
       "  margin-bottom: 0;\n",
       "}\n",
       "\n",
       ".xr-obj-type,\n",
       ".xr-array-name {\n",
       "  margin-left: 2px;\n",
       "  margin-right: 10px;\n",
       "}\n",
       "\n",
       ".xr-obj-type {\n",
       "  color: var(--xr-font-color2);\n",
       "}\n",
       "\n",
       ".xr-sections {\n",
       "  padding-left: 0 !important;\n",
       "  display: grid;\n",
       "  grid-template-columns: 150px auto auto 1fr 0 20px 0 20px;\n",
       "}\n",
       "\n",
       ".xr-section-item {\n",
       "  display: contents;\n",
       "}\n",
       "\n",
       ".xr-section-item input {\n",
       "  display: inline-block;\n",
       "  opacity: 0;\n",
       "  height: 0;\n",
       "}\n",
       "\n",
       ".xr-section-item input + label {\n",
       "  color: var(--xr-disabled-color);\n",
       "}\n",
       "\n",
       ".xr-section-item input:enabled + label {\n",
       "  cursor: pointer;\n",
       "  color: var(--xr-font-color2);\n",
       "}\n",
       "\n",
       ".xr-section-item input:focus + label {\n",
       "  border: 2px solid var(--xr-font-color0);\n",
       "}\n",
       "\n",
       ".xr-section-item input:enabled + label:hover {\n",
       "  color: var(--xr-font-color0);\n",
       "}\n",
       "\n",
       ".xr-section-summary {\n",
       "  grid-column: 1;\n",
       "  color: var(--xr-font-color2);\n",
       "  font-weight: 500;\n",
       "}\n",
       "\n",
       ".xr-section-summary > span {\n",
       "  display: inline-block;\n",
       "  padding-left: 0.5em;\n",
       "}\n",
       "\n",
       ".xr-section-summary-in:disabled + label {\n",
       "  color: var(--xr-font-color2);\n",
       "}\n",
       "\n",
       ".xr-section-summary-in + label:before {\n",
       "  display: inline-block;\n",
       "  content: \"►\";\n",
       "  font-size: 11px;\n",
       "  width: 15px;\n",
       "  text-align: center;\n",
       "}\n",
       "\n",
       ".xr-section-summary-in:disabled + label:before {\n",
       "  color: var(--xr-disabled-color);\n",
       "}\n",
       "\n",
       ".xr-section-summary-in:checked + label:before {\n",
       "  content: \"▼\";\n",
       "}\n",
       "\n",
       ".xr-section-summary-in:checked + label > span {\n",
       "  display: none;\n",
       "}\n",
       "\n",
       ".xr-section-summary,\n",
       ".xr-section-inline-details {\n",
       "  padding-top: 4px;\n",
       "  padding-bottom: 4px;\n",
       "}\n",
       "\n",
       ".xr-section-inline-details {\n",
       "  grid-column: 2 / -1;\n",
       "}\n",
       "\n",
       ".xr-section-details {\n",
       "  display: none;\n",
       "  grid-column: 1 / -1;\n",
       "  margin-bottom: 5px;\n",
       "}\n",
       "\n",
       ".xr-section-summary-in:checked ~ .xr-section-details {\n",
       "  display: contents;\n",
       "}\n",
       "\n",
       ".xr-array-wrap {\n",
       "  grid-column: 1 / -1;\n",
       "  display: grid;\n",
       "  grid-template-columns: 20px auto;\n",
       "}\n",
       "\n",
       ".xr-array-wrap > label {\n",
       "  grid-column: 1;\n",
       "  vertical-align: top;\n",
       "}\n",
       "\n",
       ".xr-preview {\n",
       "  color: var(--xr-font-color3);\n",
       "}\n",
       "\n",
       ".xr-array-preview,\n",
       ".xr-array-data {\n",
       "  padding: 0 5px !important;\n",
       "  grid-column: 2;\n",
       "}\n",
       "\n",
       ".xr-array-data,\n",
       ".xr-array-in:checked ~ .xr-array-preview {\n",
       "  display: none;\n",
       "}\n",
       "\n",
       ".xr-array-in:checked ~ .xr-array-data,\n",
       ".xr-array-preview {\n",
       "  display: inline-block;\n",
       "}\n",
       "\n",
       ".xr-dim-list {\n",
       "  display: inline-block !important;\n",
       "  list-style: none;\n",
       "  padding: 0 !important;\n",
       "  margin: 0;\n",
       "}\n",
       "\n",
       ".xr-dim-list li {\n",
       "  display: inline-block;\n",
       "  padding: 0;\n",
       "  margin: 0;\n",
       "}\n",
       "\n",
       ".xr-dim-list:before {\n",
       "  content: \"(\";\n",
       "}\n",
       "\n",
       ".xr-dim-list:after {\n",
       "  content: \")\";\n",
       "}\n",
       "\n",
       ".xr-dim-list li:not(:last-child):after {\n",
       "  content: \",\";\n",
       "  padding-right: 5px;\n",
       "}\n",
       "\n",
       ".xr-has-index {\n",
       "  font-weight: bold;\n",
       "}\n",
       "\n",
       ".xr-var-list,\n",
       ".xr-var-item {\n",
       "  display: contents;\n",
       "}\n",
       "\n",
       ".xr-var-item > div,\n",
       ".xr-var-item label,\n",
       ".xr-var-item > .xr-var-name span {\n",
       "  background-color: var(--xr-background-color-row-even);\n",
       "  margin-bottom: 0;\n",
       "}\n",
       "\n",
       ".xr-var-item > .xr-var-name:hover span {\n",
       "  padding-right: 5px;\n",
       "}\n",
       "\n",
       ".xr-var-list > li:nth-child(odd) > div,\n",
       ".xr-var-list > li:nth-child(odd) > label,\n",
       ".xr-var-list > li:nth-child(odd) > .xr-var-name span {\n",
       "  background-color: var(--xr-background-color-row-odd);\n",
       "}\n",
       "\n",
       ".xr-var-name {\n",
       "  grid-column: 1;\n",
       "}\n",
       "\n",
       ".xr-var-dims {\n",
       "  grid-column: 2;\n",
       "}\n",
       "\n",
       ".xr-var-dtype {\n",
       "  grid-column: 3;\n",
       "  text-align: right;\n",
       "  color: var(--xr-font-color2);\n",
       "}\n",
       "\n",
       ".xr-var-preview {\n",
       "  grid-column: 4;\n",
       "}\n",
       "\n",
       ".xr-index-preview {\n",
       "  grid-column: 2 / 5;\n",
       "  color: var(--xr-font-color2);\n",
       "}\n",
       "\n",
       ".xr-var-name,\n",
       ".xr-var-dims,\n",
       ".xr-var-dtype,\n",
       ".xr-preview,\n",
       ".xr-attrs dt {\n",
       "  white-space: nowrap;\n",
       "  overflow: hidden;\n",
       "  text-overflow: ellipsis;\n",
       "  padding-right: 10px;\n",
       "}\n",
       "\n",
       ".xr-var-name:hover,\n",
       ".xr-var-dims:hover,\n",
       ".xr-var-dtype:hover,\n",
       ".xr-attrs dt:hover {\n",
       "  overflow: visible;\n",
       "  width: auto;\n",
       "  z-index: 1;\n",
       "}\n",
       "\n",
       ".xr-var-attrs,\n",
       ".xr-var-data,\n",
       ".xr-index-data {\n",
       "  display: none;\n",
       "  background-color: var(--xr-background-color) !important;\n",
       "  padding-bottom: 5px !important;\n",
       "}\n",
       "\n",
       ".xr-var-attrs-in:checked ~ .xr-var-attrs,\n",
       ".xr-var-data-in:checked ~ .xr-var-data,\n",
       ".xr-index-data-in:checked ~ .xr-index-data {\n",
       "  display: block;\n",
       "}\n",
       "\n",
       ".xr-var-data > table {\n",
       "  float: right;\n",
       "}\n",
       "\n",
       ".xr-var-name span,\n",
       ".xr-var-data,\n",
       ".xr-index-name div,\n",
       ".xr-index-data,\n",
       ".xr-attrs {\n",
       "  padding-left: 25px !important;\n",
       "}\n",
       "\n",
       ".xr-attrs,\n",
       ".xr-var-attrs,\n",
       ".xr-var-data,\n",
       ".xr-index-data {\n",
       "  grid-column: 1 / -1;\n",
       "}\n",
       "\n",
       "dl.xr-attrs {\n",
       "  padding: 0;\n",
       "  margin: 0;\n",
       "  display: grid;\n",
       "  grid-template-columns: 125px auto;\n",
       "}\n",
       "\n",
       ".xr-attrs dt,\n",
       ".xr-attrs dd {\n",
       "  padding: 0;\n",
       "  margin: 0;\n",
       "  float: left;\n",
       "  padding-right: 10px;\n",
       "  width: auto;\n",
       "}\n",
       "\n",
       ".xr-attrs dt {\n",
       "  font-weight: normal;\n",
       "  grid-column: 1;\n",
       "}\n",
       "\n",
       ".xr-attrs dt:hover span {\n",
       "  display: inline-block;\n",
       "  background: var(--xr-background-color);\n",
       "  padding-right: 10px;\n",
       "}\n",
       "\n",
       ".xr-attrs dd {\n",
       "  grid-column: 2;\n",
       "  white-space: pre-wrap;\n",
       "  word-break: break-all;\n",
       "}\n",
       "\n",
       ".xr-icon-database,\n",
       ".xr-icon-file-text2,\n",
       ".xr-no-icon {\n",
       "  display: inline-block;\n",
       "  vertical-align: middle;\n",
       "  width: 1em;\n",
       "  height: 1.5em !important;\n",
       "  stroke-width: 0;\n",
       "  stroke: currentColor;\n",
       "  fill: currentColor;\n",
       "}\n",
       "</style><pre class='xr-text-repr-fallback'>&lt;xarray.DatasetView&gt; Size: 632B\n",
       "Dimensions:         (location: 6)\n",
       "Coordinates:\n",
       "  * location        (location) &lt;U18 432B &#x27;NCAR Mesa Lab&#x27; ... &#x27;Flagstaff Mount...\n",
       "Data variables:\n",
       "    hidden_message  &lt;U50 200B ...\n",
       "Attributes:\n",
       "    description:  A hidden archive of Boreas&#x27; last known research.</pre><div class='xr-wrap' style='display:none'><div class='xr-header'><div class='xr-obj-type'>secrets</div></div><ul class='xr-sections'><li class='xr-section-item'><input id='section-f6a61190-ed60-47ed-a75d-0b964720618c' class='xr-section-summary-in' type='checkbox' disabled ><label for='section-f6a61190-ed60-47ed-a75d-0b964720618c' class='xr-section-summary'  title='Expand/collapse section'>Groups: <span>(0)</span></label><div class='xr-section-inline-details'></div><div class='xr-section-details'><div style='display: inline-grid; grid-template-columns: 100%; grid-column: 1 / -1'></div></div></li><li class='xr-section-item'><input id='section-b3a4c044-116c-4ebc-8273-ac4d487dea99' class='xr-section-summary-in' type='checkbox' disabled ><label for='section-b3a4c044-116c-4ebc-8273-ac4d487dea99' class='xr-section-summary'  title='Expand/collapse section'>Dimensions:</label><div class='xr-section-inline-details'><ul class='xr-dim-list'><li><span class='xr-has-index'>location</span>: 6</li></ul></div><div class='xr-section-details'></div></li><li class='xr-section-item'><input id='section-20440c58-5685-43da-82ab-3db39bbfb6e2' class='xr-section-summary-in' type='checkbox' disabled ><label for='section-20440c58-5685-43da-82ab-3db39bbfb6e2' class='xr-section-summary'  title='Expand/collapse section'>Coordinates: <span>(0)</span></label><div class='xr-section-inline-details'></div><div class='xr-section-details'><ul class='xr-var-list'></ul></div></li><li class='xr-section-item'><input id='section-0c001874-620d-460b-93a8-fe1bffe81544' class='xr-section-summary-in' type='checkbox'  checked><label for='section-0c001874-620d-460b-93a8-fe1bffe81544' class='xr-section-summary' >Data variables: <span>(1)</span></label><div class='xr-section-inline-details'></div><div class='xr-section-details'><ul class='xr-var-list'><li class='xr-var-item'><div class='xr-var-name'><span>hidden_message</span></div><div class='xr-var-dims'>()</div><div class='xr-var-dtype'>&lt;U50</div><div class='xr-var-preview xr-preview'>...</div><input id='attrs-21b7f4d3-10c0-499d-9f0a-c085a6a209ea' class='xr-var-attrs-in' type='checkbox' ><label for='attrs-21b7f4d3-10c0-499d-9f0a-c085a6a209ea' title='Show/Hide attributes'><svg class='icon xr-icon-file-text2'><use xlink:href='#icon-file-text2'></use></svg></label><input id='data-9750937b-61ce-460a-a55a-557fef1f369e' class='xr-var-data-in' type='checkbox'><label for='data-9750937b-61ce-460a-a55a-557fef1f369e' title='Show/Hide data repr'><svg class='icon xr-icon-database'><use xlink:href='#icon-database'></use></svg></label><div class='xr-var-attrs'><dl class='xr-attrs'><dt><span>note :</span></dt><dd>Look deeper into the data. The answer is not always at the surface.</dd></dl></div><div class='xr-var-data'><pre>[1 values with dtype=&lt;U50]</pre></div></li></ul></div></li><li class='xr-section-item'><input id='section-c68ccc41-a454-42d0-a531-9c763e85c360' class='xr-section-summary-in' type='checkbox'  checked><label for='section-c68ccc41-a454-42d0-a531-9c763e85c360' class='xr-section-summary' >Attributes: <span>(1)</span></label><div class='xr-section-inline-details'></div><div class='xr-section-details'><dl class='xr-attrs'><dt><span>description :</span></dt><dd>A hidden archive of Boreas&#x27; last known research.</dd></dl></div></li></ul></div></div></div></div></div></div></li><li class='xr-section-item'><input id='section-e15f7384-5d9c-41e7-b38a-c3533ab6ad82' class='xr-section-summary-in' type='checkbox' disabled ><label for='section-e15f7384-5d9c-41e7-b38a-c3533ab6ad82' class='xr-section-summary'  title='Expand/collapse section'>Dimensions:</label><div class='xr-section-inline-details'><ul class='xr-dim-list'><li><span class='xr-has-index'>location</span>: 6</li></ul></div><div class='xr-section-details'></div></li><li class='xr-section-item'><input id='section-d29eefbd-530e-43ad-865d-5c275b150208' class='xr-section-summary-in' type='checkbox'  checked><label for='section-d29eefbd-530e-43ad-865d-5c275b150208' class='xr-section-summary' >Coordinates: <span>(1)</span></label><div class='xr-section-inline-details'></div><div class='xr-section-details'><ul class='xr-var-list'><li class='xr-var-item'><div class='xr-var-name'><span class='xr-has-index'>location</span></div><div class='xr-var-dims'>(location)</div><div class='xr-var-dtype'>&lt;U18</div><div class='xr-var-preview xr-preview'>&#x27;NCAR Mesa Lab&#x27; ... &#x27;Flagstaff M...</div><input id='attrs-190558b9-43e5-4085-acb5-8881066f298c' class='xr-var-attrs-in' type='checkbox' disabled><label for='attrs-190558b9-43e5-4085-acb5-8881066f298c' title='Show/Hide attributes'><svg class='icon xr-icon-file-text2'><use xlink:href='#icon-file-text2'></use></svg></label><input id='data-c83fda82-031c-4252-805e-37adc7000f86' class='xr-var-data-in' type='checkbox'><label for='data-c83fda82-031c-4252-805e-37adc7000f86' title='Show/Hide data repr'><svg class='icon xr-icon-database'><use xlink:href='#icon-database'></use></svg></label><div class='xr-var-attrs'><dl class='xr-attrs'></dl></div><div class='xr-var-data'><pre>array([&#x27;NCAR Mesa Lab&#x27;, &#x27;Flatirons&#x27;, &#x27;Pearl Street Mall&#x27;, &#x27;Chautauqua Park&#x27;,\n",
       "       &#x27;Boulder Reservoir&#x27;, &#x27;Flagstaff Mountain&#x27;], dtype=&#x27;&lt;U18&#x27;)</pre></div></li></ul></div></li><li class='xr-section-item'><input id='section-f0a99311-86bc-4960-b9d3-535706f70362' class='xr-section-summary-in' type='checkbox' disabled ><label for='section-f0a99311-86bc-4960-b9d3-535706f70362' class='xr-section-summary'  title='Expand/collapse section'>Inherited coordinates: <span>(0)</span></label><div class='xr-section-inline-details'></div><div class='xr-section-details'><ul class='xr-var-list'></ul></div></li><li class='xr-section-item'><input id='section-6ae9d446-bc8a-4731-a050-c10f88317eec' class='xr-section-summary-in' type='checkbox'  checked><label for='section-6ae9d446-bc8a-4731-a050-c10f88317eec' class='xr-section-summary' >Data variables: <span>(3)</span></label><div class='xr-section-inline-details'></div><div class='xr-section-details'><ul class='xr-var-list'><li class='xr-var-item'><div class='xr-var-name'><span>latitude</span></div><div class='xr-var-dims'>(location)</div><div class='xr-var-dtype'>float64</div><div class='xr-var-preview xr-preview'>...</div><input id='attrs-d7628b96-4d3d-4ac6-9fb9-4d848acfa372' class='xr-var-attrs-in' type='checkbox' ><label for='attrs-d7628b96-4d3d-4ac6-9fb9-4d848acfa372' title='Show/Hide attributes'><svg class='icon xr-icon-file-text2'><use xlink:href='#icon-file-text2'></use></svg></label><input id='data-4f8349ec-6b74-44df-9e34-5778d8aeca30' class='xr-var-data-in' type='checkbox'><label for='data-4f8349ec-6b74-44df-9e34-5778d8aeca30' title='Show/Hide data repr'><svg class='icon xr-icon-database'><use xlink:href='#icon-database'></use></svg></label><div class='xr-var-attrs'><dl class='xr-attrs'><dt><span>units :</span></dt><dd>degrees_north</dd></dl></div><div class='xr-var-data'><pre>[6 values with dtype=float64]</pre></div></li><li class='xr-var-item'><div class='xr-var-name'><span>longitude</span></div><div class='xr-var-dims'>(location)</div><div class='xr-var-dtype'>float64</div><div class='xr-var-preview xr-preview'>...</div><input id='attrs-dc1561a5-b725-4256-ad68-e61874257651' class='xr-var-attrs-in' type='checkbox' ><label for='attrs-dc1561a5-b725-4256-ad68-e61874257651' title='Show/Hide attributes'><svg class='icon xr-icon-file-text2'><use xlink:href='#icon-file-text2'></use></svg></label><input id='data-c58e5396-ebc7-4b6a-9cbd-eaabe0a7bb85' class='xr-var-data-in' type='checkbox'><label for='data-c58e5396-ebc7-4b6a-9cbd-eaabe0a7bb85' title='Show/Hide data repr'><svg class='icon xr-icon-database'><use xlink:href='#icon-database'></use></svg></label><div class='xr-var-attrs'><dl class='xr-attrs'><dt><span>units :</span></dt><dd>degrees_east</dd></dl></div><div class='xr-var-data'><pre>[6 values with dtype=float64]</pre></div></li><li class='xr-var-item'><div class='xr-var-name'><span>location_name</span></div><div class='xr-var-dims'>(location)</div><div class='xr-var-dtype'>&lt;U18</div><div class='xr-var-preview xr-preview'>...</div><input id='attrs-f689cd71-1d38-4e26-9909-a54c50062e4b' class='xr-var-attrs-in' type='checkbox' ><label for='attrs-f689cd71-1d38-4e26-9909-a54c50062e4b' title='Show/Hide attributes'><svg class='icon xr-icon-file-text2'><use xlink:href='#icon-file-text2'></use></svg></label><input id='data-f99f5f61-a3f4-41b6-a319-c2d486fbfccb' class='xr-var-data-in' type='checkbox'><label for='data-f99f5f61-a3f4-41b6-a319-c2d486fbfccb' title='Show/Hide data repr'><svg class='icon xr-icon-database'><use xlink:href='#icon-database'></use></svg></label><div class='xr-var-attrs'><dl class='xr-attrs'><dt><span>comment :</span></dt><dd>One of these locations holds the key. But which one?</dd></dl></div><div class='xr-var-data'><pre>[6 values with dtype=&lt;U18]</pre></div></li></ul></div></li><li class='xr-section-item'><input id='section-26b65c06-4754-4f3c-b39e-d8d373e1967b' class='xr-section-summary-in' type='checkbox'  checked><label for='section-26b65c06-4754-4f3c-b39e-d8d373e1967b' class='xr-section-summary' >Attributes: <span>(4)</span></label><div class='xr-section-inline-details'></div><div class='xr-section-details'><dl class='xr-attrs'><dt><span>title :</span></dt><dd>The Mystery of Boreas the Penguin</dd><dt><span>institution :</span></dt><dd>NCAR - National Center for Atmospheric Research</dd><dt><span>history :</span></dt><dd>Created for the NSF SOARS interns</dd><dt><span>comment :</span></dt><dd>The wind whispers secrets. Seek Boreas where science meets the sky.</dd></dl></div></li></ul></div></div>"
      ],
      "text/plain": [
       "<xarray.DataTree>\n",
       "Group: /\n",
       "│   Dimensions:        (location: 6)\n",
       "│   Coordinates:\n",
       "│     * location       (location) <U18 432B 'NCAR Mesa Lab' ... 'Flagstaff Mountain'\n",
       "│   Data variables:\n",
       "│       latitude       (location) float64 48B ...\n",
       "│       longitude      (location) float64 48B ...\n",
       "│       location_name  (location) <U18 432B ...\n",
       "│   Attributes:\n",
       "│       title:        The Mystery of Boreas the Penguin\n",
       "│       institution:  NCAR - National Center for Atmospheric Research\n",
       "│       history:      Created for the NSF SOARS interns\n",
       "│       comment:      The wind whispers secrets. Seek Boreas where science meets ...\n",
       "└── Group: /secrets\n",
       "        Dimensions:         ()\n",
       "        Data variables:\n",
       "            hidden_message  <U50 200B ...\n",
       "        Attributes:\n",
       "            description:  A hidden archive of Boreas' last known research."
      ]
     },
     "execution_count": 24,
     "metadata": {},
     "output_type": "execute_result"
    }
   ],
   "source": [
    "ds"
   ]
  },
  {
   "cell_type": "code",
   "execution_count": null,
   "metadata": {
    "id": "k3nmOIFKTZp9"
   },
   "outputs": [],
   "source": []
  }
 ],
 "metadata": {
  "colab": {
   "provenance": [],
   "toc_visible": true
  },
  "kernelspec": {
   "display_name": "Python 3 (ipykernel)",
   "language": "python",
   "name": "python3"
  },
  "language_info": {
   "codemirror_mode": {
    "name": "ipython",
    "version": 3
   },
   "file_extension": ".py",
   "mimetype": "text/x-python",
   "name": "python",
   "nbconvert_exporter": "python",
   "pygments_lexer": "ipython3",
   "version": "3.9.15"
  }
 },
 "nbformat": 4,
 "nbformat_minor": 4
}
